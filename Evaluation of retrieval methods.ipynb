{
 "cells": [
  {
   "cell_type": "markdown",
   "id": "3d599c7c-f3de-4d32-a7ac-030a06b77deb",
   "metadata": {},
   "source": [
    "# Evaluation of retrieval methods"
   ]
  },
  {
   "cell_type": "markdown",
   "id": "3d893f69-b4b4-4933-9484-bb933f2ad0b9",
   "metadata": {},
   "source": [
    "## Create the Ground truth dataset for retrieval evaluation\n",
    "\n",
    "Ground truth is the dataset that contains all the relevant documents that should be retrieved from each query. Consider this as a label dataset that we know in advance the correct documents we need to retrieve for each query.\n",
    "\n",
    "You can create a ground truth in various ways:\n",
    "- Human annotators: That will find and label manually all the relevant documents for each query\n",
    "- User interaction annotators: In production system people or LLMs can examine user queries and system results and label the most relevant docs\n",
    "- LLM synthetic data: Use an LLM to generate a number of synthetic user questions for each record/document that we want to retrieve\n",
    "\n",
    "In this exercise, the last option will be used."
   ]
  },
  {
   "cell_type": "code",
   "execution_count": 2,
   "id": "d43512c9-18ae-48c1-a8f2-a5008a5896bc",
   "metadata": {},
   "outputs": [
    {
     "data": {
      "text/plain": [
       "{'text': \"The purpose of this document is to capture frequently asked technical questions\\nThe exact day and hour of the course will be 15th Jan 2024 at 17h00. The course will start with the first  “Office Hours'' live.1\\nSubscribe to course public Google Calendar (it works from Desktop only).\\nRegister before the course starts using this link.\\nJoin the course Telegram channel with announcements.\\nDon’t forget to register in DataTalks.Club's Slack and join the channel.\",\n",
       " 'section': 'General course-related questions',\n",
       " 'question': 'Course - When will the course start?',\n",
       " 'course': 'data-engineering-zoomcamp'}"
      ]
     },
     "execution_count": 2,
     "metadata": {},
     "output_type": "execute_result"
    }
   ],
   "source": [
    "# Fetch the documents that we want to fetch\n",
    "import requests\n",
    "# To get the documents I will download them for the GitHub repo\n",
    "url_path = 'https://raw.githubusercontent.com/DataTalksClub/llm-zoomcamp/main/01-intro/documents.json'\n",
    "response = requests.get(url_path)\n",
    "# Read the Json file \n",
    "docs_raw = response.json()\n",
    "# Flatten the json (add the course in each question)\n",
    "documents = []\n",
    "# For each course in the Json\n",
    "for courses in docs_raw:\n",
    "    # Add the course name to the document\n",
    "    for doc in courses['documents']:\n",
    "        doc['course'] = courses['course']\n",
    "        documents.append(doc)\n",
    "# See the first question of the document\n",
    "documents[0]"
   ]
  },
  {
   "cell_type": "markdown",
   "id": "aacdf13f-591c-406e-93b2-0027d4f3904b",
   "metadata": {},
   "source": [
    "### Create an unique identifier for each document"
   ]
  },
  {
   "cell_type": "code",
   "execution_count": 4,
   "id": "ca5ea92f-9d8d-498b-8f7b-73214063f537",
   "metadata": {},
   "outputs": [],
   "source": [
    "# Use the library to create a hash key\n",
    "import hashlib\n",
    "\n",
    "# Create the function to generate the unique doc id\n",
    "def generate_document_id(doc):\n",
    "    # To create a unique string to hash we take the text from different elements of the document\n",
    "    combined = f\"{doc['course']}-{doc['question']}-{doc['text'][:10]}\"\n",
    "    # Create the hash object from the string\n",
    "    hash_object = hashlib.md5(combined.encode())\n",
    "    # Create a string from the hashed object\n",
    "    hash_hex = hash_object.hexdigest()\n",
    "    # Takne the first 8 digits of the string\n",
    "    document_id = hash_hex[:8]\n",
    "    return document_id"
   ]
  },
  {
   "cell_type": "code",
   "execution_count": 7,
   "id": "5d4e6993-6f1f-4a36-8dc1-6cb442515428",
   "metadata": {},
   "outputs": [
    {
     "data": {
      "text/plain": [
       "{'text': \"The purpose of this document is to capture frequently asked technical questions\\nThe exact day and hour of the course will be 15th Jan 2024 at 17h00. The course will start with the first  “Office Hours'' live.1\\nSubscribe to course public Google Calendar (it works from Desktop only).\\nRegister before the course starts using this link.\\nJoin the course Telegram channel with announcements.\\nDon’t forget to register in DataTalks.Club's Slack and join the channel.\",\n",
       " 'section': 'General course-related questions',\n",
       " 'question': 'Course - When will the course start?',\n",
       " 'course': 'data-engineering-zoomcamp',\n",
       " 'id': 'c02e79ef'}"
      ]
     },
     "execution_count": 7,
     "metadata": {},
     "output_type": "execute_result"
    }
   ],
   "source": [
    "# Generate a unique id for each document\n",
    "for doc in documents:\n",
    "    doc['id'] = generate_document_id(doc)\n",
    "# Examine the first record\n",
    "documents[0]"
   ]
  },
  {
   "cell_type": "code",
   "execution_count": 9,
   "id": "719b590a-d428-4f0a-8e7f-d7c319bc4c5e",
   "metadata": {},
   "outputs": [
    {
     "name": "stdout",
     "output_type": "stream",
     "text": [
      "947 948\n",
      "593f7569 2\n"
     ]
    }
   ],
   "source": [
    "# Check for duplicates\n",
    "from collections import defaultdict\n",
    "hashes = defaultdict(list)\n",
    "for doc in documents:\n",
    "    doc_id = doc['id']\n",
    "    hashes[doc_id].append(doc)\n",
    "# See the length\n",
    "print(len(hashes), len(documents))\n",
    "# Find the duplicate entries\n",
    "for k, values in hashes.items():\n",
    "    if len(values) > 1:\n",
    "        print(k, len(values))"
   ]
  },
  {
   "cell_type": "code",
   "execution_count": null,
   "id": "c1e87072-b46f-402d-a722-638beb932493",
   "metadata": {},
   "outputs": [],
   "source": []
  }
 ],
 "metadata": {
  "kernelspec": {
   "display_name": "Python 3 (ipykernel)",
   "language": "python",
   "name": "python3"
  },
  "language_info": {
   "codemirror_mode": {
    "name": "ipython",
    "version": 3
   },
   "file_extension": ".py",
   "mimetype": "text/x-python",
   "name": "python",
   "nbconvert_exporter": "python",
   "pygments_lexer": "ipython3",
   "version": "3.10.13"
  }
 },
 "nbformat": 4,
 "nbformat_minor": 5
}
