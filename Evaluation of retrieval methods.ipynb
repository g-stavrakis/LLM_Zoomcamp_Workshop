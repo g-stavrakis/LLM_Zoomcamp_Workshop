{
 "cells": [
  {
   "cell_type": "markdown",
   "id": "3d599c7c-f3de-4d32-a7ac-030a06b77deb",
   "metadata": {},
   "source": [
    "# Evaluation of retrieval methods"
   ]
  },
  {
   "cell_type": "markdown",
   "id": "3d893f69-b4b4-4933-9484-bb933f2ad0b9",
   "metadata": {},
   "source": [
    "## Create the Ground truth dataset for retrieval evaluation\n",
    "\n",
    "Ground truth is the dataset that contains all the relevant documents that should be retrieved from each query. Consider this as a label dataset that we know in advance the correct documents we need to retrieve for each query.\n",
    "\n",
    "You can create a ground truth in various ways:\n",
    "- Human annotators: That will find and label manually all the relevant documents for each query\n",
    "- User interaction annotators: In production system people or LLMs can examine user queries and system results and label the most relevant docs\n",
    "- LLM synthetic data: Use an LLM to generate a number of synthetic user questions for each record/document that we want to retrieve\n",
    "\n",
    "In this exercise, the last option will be used."
   ]
  },
  {
   "cell_type": "code",
   "execution_count": 1,
   "id": "3b154058-9e64-4751-8333-aa7abc329554",
   "metadata": {},
   "outputs": [
    {
     "data": {
      "text/plain": [
       "True"
      ]
     },
     "execution_count": 1,
     "metadata": {},
     "output_type": "execute_result"
    }
   ],
   "source": [
    "import pandas as pd\n",
    "from dotenv import load_dotenv\n",
    "import os\n",
    "\n",
    "# Load environment variables from .envrc (or .env file if you rename it)\n",
    "load_dotenv(\".envrc\")"
   ]
  },
  {
   "cell_type": "code",
   "execution_count": 2,
   "id": "d43512c9-18ae-48c1-a8f2-a5008a5896bc",
   "metadata": {},
   "outputs": [
    {
     "data": {
      "text/plain": [
       "{'text': \"The purpose of this document is to capture frequently asked technical questions\\nThe exact day and hour of the course will be 15th Jan 2024 at 17h00. The course will start with the first  “Office Hours'' live.1\\nSubscribe to course public Google Calendar (it works from Desktop only).\\nRegister before the course starts using this link.\\nJoin the course Telegram channel with announcements.\\nDon’t forget to register in DataTalks.Club's Slack and join the channel.\",\n",
       " 'section': 'General course-related questions',\n",
       " 'question': 'Course - When will the course start?',\n",
       " 'course': 'data-engineering-zoomcamp'}"
      ]
     },
     "execution_count": 2,
     "metadata": {},
     "output_type": "execute_result"
    }
   ],
   "source": [
    "# Fetch the documents that we want to fetch\n",
    "import requests\n",
    "# To get the documents I will download them for the GitHub repo\n",
    "url_path = 'https://raw.githubusercontent.com/DataTalksClub/llm-zoomcamp/main/01-intro/documents.json'\n",
    "response = requests.get(url_path)\n",
    "# Read the Json file \n",
    "docs_raw = response.json()\n",
    "# Flatten the json (add the course in each question)\n",
    "documents = []\n",
    "# For each course in the Json\n",
    "for courses in docs_raw:\n",
    "    # Add the course name to the document\n",
    "    for doc in courses['documents']:\n",
    "        doc['course'] = courses['course']\n",
    "        documents.append(doc)\n",
    "# See the first question of the document\n",
    "documents[0]"
   ]
  },
  {
   "cell_type": "markdown",
   "id": "aacdf13f-591c-406e-93b2-0027d4f3904b",
   "metadata": {},
   "source": [
    "### Create an unique identifier for each document"
   ]
  },
  {
   "cell_type": "code",
   "execution_count": 3,
   "id": "ca5ea92f-9d8d-498b-8f7b-73214063f537",
   "metadata": {},
   "outputs": [],
   "source": [
    "# Use the library to create a hash key\n",
    "import hashlib\n",
    "\n",
    "# Create the function to generate the unique doc id\n",
    "def generate_document_id(doc):\n",
    "    # To create a unique string to hash we take the text from different elements of the document\n",
    "    combined = f\"{doc['course']}-{doc['question']}-{doc['text'][:10]}\"\n",
    "    # Create the hash object from the string\n",
    "    hash_object = hashlib.md5(combined.encode())\n",
    "    # Create a string from the hashed object\n",
    "    hash_hex = hash_object.hexdigest()\n",
    "    # Takne the first 8 digits of the string\n",
    "    document_id = hash_hex[:8]\n",
    "    return document_id"
   ]
  },
  {
   "cell_type": "code",
   "execution_count": 4,
   "id": "5d4e6993-6f1f-4a36-8dc1-6cb442515428",
   "metadata": {},
   "outputs": [
    {
     "data": {
      "text/plain": [
       "{'text': \"The purpose of this document is to capture frequently asked technical questions\\nThe exact day and hour of the course will be 15th Jan 2024 at 17h00. The course will start with the first  “Office Hours'' live.1\\nSubscribe to course public Google Calendar (it works from Desktop only).\\nRegister before the course starts using this link.\\nJoin the course Telegram channel with announcements.\\nDon’t forget to register in DataTalks.Club's Slack and join the channel.\",\n",
       " 'section': 'General course-related questions',\n",
       " 'question': 'Course - When will the course start?',\n",
       " 'course': 'data-engineering-zoomcamp',\n",
       " 'id': 'c02e79ef'}"
      ]
     },
     "execution_count": 4,
     "metadata": {},
     "output_type": "execute_result"
    }
   ],
   "source": [
    "# Generate a unique id for each document\n",
    "for doc in documents:\n",
    "    doc['id'] = generate_document_id(doc)\n",
    "# Examine the first record\n",
    "documents[0]"
   ]
  },
  {
   "cell_type": "code",
   "execution_count": 5,
   "id": "719b590a-d428-4f0a-8e7f-d7c319bc4c5e",
   "metadata": {},
   "outputs": [
    {
     "name": "stdout",
     "output_type": "stream",
     "text": [
      "947 948\n",
      "593f7569 2\n"
     ]
    }
   ],
   "source": [
    "# Check for duplicates\n",
    "from collections import defaultdict\n",
    "hashes = defaultdict(list)\n",
    "for doc in documents:\n",
    "    doc_id = doc['id']\n",
    "    hashes[doc_id].append(doc)\n",
    "# See the length\n",
    "print(len(hashes), len(documents))\n",
    "# Find the duplicate entries\n",
    "for k, values in hashes.items():\n",
    "    if len(values) > 1:\n",
    "        print(k, len(values))"
   ]
  },
  {
   "cell_type": "markdown",
   "id": "bcb8d485-fa7b-4dc7-9db1-055c8e5301f7",
   "metadata": {},
   "source": [
    "### Generate user questions for each record using LLM"
   ]
  },
  {
   "cell_type": "code",
   "execution_count": 5,
   "id": "32077155-0745-401a-a4b9-688cae3db2a0",
   "metadata": {},
   "outputs": [],
   "source": [
    "# Create the prompt template for the LLM\n",
    "prompt_template = \"\"\"\n",
    "You emulate a student who's taking our course.\n",
    "Formulate 5 questions this student might ask based on a FAQ record. The record\n",
    "should contain the answer to the questions, and the questions should be complete and not too short.\n",
    "If possible, use as fewer words as possible from the record. \n",
    "\n",
    "The record:\n",
    "\n",
    "section: {section}\n",
    "question: {question}\n",
    "answer: {text}\n",
    "\n",
    "Provide the output in parsable JSON without using code blocks:\n",
    "\n",
    "[\"question1\", \"question2\", ..., \"question5\"]\n",
    "\"\"\".strip()"
   ]
  },
  {
   "cell_type": "code",
   "execution_count": 6,
   "id": "974a58a3-0dfa-4dde-b02d-b6a0c188ae67",
   "metadata": {},
   "outputs": [],
   "source": [
    "# Initialize the OpenAI instance\n",
    "from openai import OpenAI\n",
    "# Initialzite the client\n",
    "client = OpenAI()"
   ]
  },
  {
   "cell_type": "code",
   "execution_count": 19,
   "id": "7307991e-868f-4ce7-82d6-947d54bf905e",
   "metadata": {},
   "outputs": [
    {
     "name": "stdout",
     "output_type": "stream",
     "text": [
      "[\n",
      "    \"When is the exact start date and time of the course?\",\n",
      "    \"How can I subscribe to the course's public Google Calendar?\",\n",
      "    \"Where can I register before the course begins?\",\n",
      "    \"How do I join the course's Telegram channel for announcements?\",\n",
      "    \"Which Slack channel should I join after registering in DataTalks.Club?\"\n",
      "]\n"
     ]
    }
   ],
   "source": [
    "# Generate questions from the first record\n",
    "sample = documents[0]\n",
    "# Create the prompt\n",
    "prompt = prompt_template.format(**sample)\n",
    "# Make the request\n",
    "full_response = client.chat.completions.create(\n",
    "    model = 'gpt-4o',\n",
    "    messages = [{\"role\": \"user\", \"content\": prompt}])\n",
    "# Parse the response\n",
    "response = full_response.choices[0].message.content\n",
    "# Print the response\n",
    "print(response)"
   ]
  },
  {
   "cell_type": "code",
   "execution_count": 13,
   "id": "ee963da0-6c9c-43ce-bda5-5f1bfb1cb5fd",
   "metadata": {},
   "outputs": [],
   "source": [
    "# Create the function to generate the questions\n",
    "def generate_questions(doc):\n",
    "    # Create the prompt from a template\n",
    "    prompt = prompt_template.format(**doc)\n",
    "    # Request from the model\n",
    "    full_response = client.chat.completions.create(\n",
    "        model = 'gpt-4o',\n",
    "        messages = [{\"role\": \"user\", \"content\": prompt}])\n",
    "    # Parse the response\n",
    "    response = full_response.choices[0].message.content\n",
    "    return response"
   ]
  },
  {
   "cell_type": "markdown",
   "id": "feff73be-b06f-4a4e-960e-a33a1fbaa609",
   "metadata": {},
   "source": [
    "### Create the ground truth dataset"
   ]
  },
  {
   "cell_type": "code",
   "execution_count": 28,
   "id": "07bce8dd-8cc3-4236-96c9-2e9488752b44",
   "metadata": {},
   "outputs": [],
   "source": [
    "# Create a subset of the dataset to generate the questions\n",
    "docs = documents[:5]\n",
    "\n",
    "# Initialize the results object\n",
    "results = {}\n",
    "# For each document generate the user questions\n",
    "for doc in docs:\n",
    "    doc_id = doc['id']\n",
    "    results[doc_id] = generate_questions(doc)"
   ]
  },
  {
   "cell_type": "code",
   "execution_count": 48,
   "id": "3fc24515-0522-4cb7-93be-a6b8a751c1d5",
   "metadata": {},
   "outputs": [
    {
     "data": {
      "text/html": [
       "<div>\n",
       "<style scoped>\n",
       "    .dataframe tbody tr th:only-of-type {\n",
       "        vertical-align: middle;\n",
       "    }\n",
       "\n",
       "    .dataframe tbody tr th {\n",
       "        vertical-align: top;\n",
       "    }\n",
       "\n",
       "    .dataframe thead th {\n",
       "        text-align: right;\n",
       "    }\n",
       "</style>\n",
       "<table border=\"1\" class=\"dataframe\">\n",
       "  <thead>\n",
       "    <tr style=\"text-align: right;\">\n",
       "      <th></th>\n",
       "      <th>document</th>\n",
       "      <th>question</th>\n",
       "      <th>course</th>\n",
       "    </tr>\n",
       "  </thead>\n",
       "  <tbody>\n",
       "    <tr>\n",
       "      <th>0</th>\n",
       "      <td>c02e79ef</td>\n",
       "      <td>When will the course begin?</td>\n",
       "      <td>data-engineering-zoomcamp</td>\n",
       "    </tr>\n",
       "    <tr>\n",
       "      <th>1</th>\n",
       "      <td>c02e79ef</td>\n",
       "      <td>How can I add the course schedule to my calendar?</td>\n",
       "      <td>data-engineering-zoomcamp</td>\n",
       "    </tr>\n",
       "    <tr>\n",
       "      <th>2</th>\n",
       "      <td>c02e79ef</td>\n",
       "      <td>Where should I register before the course starts?</td>\n",
       "      <td>data-engineering-zoomcamp</td>\n",
       "    </tr>\n",
       "    <tr>\n",
       "      <th>3</th>\n",
       "      <td>c02e79ef</td>\n",
       "      <td>Is there a Telegram channel for course announc...</td>\n",
       "      <td>data-engineering-zoomcamp</td>\n",
       "    </tr>\n",
       "    <tr>\n",
       "      <th>4</th>\n",
       "      <td>c02e79ef</td>\n",
       "      <td>Should I join any specific Slack channels for ...</td>\n",
       "      <td>data-engineering-zoomcamp</td>\n",
       "    </tr>\n",
       "    <tr>\n",
       "      <th>5</th>\n",
       "      <td>1f6520ca</td>\n",
       "      <td>What background knowledge do I need before enr...</td>\n",
       "      <td>data-engineering-zoomcamp</td>\n",
       "    </tr>\n",
       "    <tr>\n",
       "      <th>6</th>\n",
       "      <td>1f6520ca</td>\n",
       "      <td>Are there any specific skills required to star...</td>\n",
       "      <td>data-engineering-zoomcamp</td>\n",
       "    </tr>\n",
       "    <tr>\n",
       "      <th>7</th>\n",
       "      <td>1f6520ca</td>\n",
       "      <td>Where can I find the required prerequisites to...</td>\n",
       "      <td>data-engineering-zoomcamp</td>\n",
       "    </tr>\n",
       "    <tr>\n",
       "      <th>8</th>\n",
       "      <td>1f6520ca</td>\n",
       "      <td>Is there a list of prerequisites available for...</td>\n",
       "      <td>data-engineering-zoomcamp</td>\n",
       "    </tr>\n",
       "    <tr>\n",
       "      <th>9</th>\n",
       "      <td>1f6520ca</td>\n",
       "      <td>How can I check the prerequisites for this cou...</td>\n",
       "      <td>data-engineering-zoomcamp</td>\n",
       "    </tr>\n",
       "  </tbody>\n",
       "</table>\n",
       "</div>"
      ],
      "text/plain": [
       "   document                                           question  \\\n",
       "0  c02e79ef                        When will the course begin?   \n",
       "1  c02e79ef  How can I add the course schedule to my calendar?   \n",
       "2  c02e79ef  Where should I register before the course starts?   \n",
       "3  c02e79ef  Is there a Telegram channel for course announc...   \n",
       "4  c02e79ef  Should I join any specific Slack channels for ...   \n",
       "5  1f6520ca  What background knowledge do I need before enr...   \n",
       "6  1f6520ca  Are there any specific skills required to star...   \n",
       "7  1f6520ca  Where can I find the required prerequisites to...   \n",
       "8  1f6520ca  Is there a list of prerequisites available for...   \n",
       "9  1f6520ca  How can I check the prerequisites for this cou...   \n",
       "\n",
       "                      course  \n",
       "0  data-engineering-zoomcamp  \n",
       "1  data-engineering-zoomcamp  \n",
       "2  data-engineering-zoomcamp  \n",
       "3  data-engineering-zoomcamp  \n",
       "4  data-engineering-zoomcamp  \n",
       "5  data-engineering-zoomcamp  \n",
       "6  data-engineering-zoomcamp  \n",
       "7  data-engineering-zoomcamp  \n",
       "8  data-engineering-zoomcamp  \n",
       "9  data-engineering-zoomcamp  "
      ]
     },
     "execution_count": 48,
     "metadata": {},
     "output_type": "execute_result"
    }
   ],
   "source": [
    "ids = []\n",
    "user_query = []\n",
    "course = []\n",
    "i = 0 \n",
    "\n",
    "for id, questions_string in results.items():\n",
    "    # Convert the string of questions to a list\n",
    "    questions = json.loads(questions_string)\n",
    "    for query in questions:\n",
    "        ids.append(id)\n",
    "        user_query.append(query)\n",
    "        course.append(docs[i]['course'])\n",
    "    i+=1\n",
    "# Create the dictionary to save as a dataframe\n",
    "results_dic = {'document':ids,'question': user_query, 'course':course}\n",
    "# Create the dataframe with the ground truth dataset\n",
    "df = pd.DataFrame(results_dic)\n",
    "# View the dataset\n",
    "df.head(10)"
   ]
  },
  {
   "cell_type": "markdown",
   "id": "04ab4cf5-b39c-4d89-816a-da789191e56c",
   "metadata": {},
   "source": [
    "## Evaluate the different search methods \n",
    "\n",
    "To evaluate the different search methods that we have created for our RAG system we will compute and compare the below metrics:\n",
    "- **Hit Rate (HR) at k**: Counts from all the retrieval requests, how many of them contained the relevant documents in the top k results\n",
    "- **Mean Reciprocal Rank (MRR)**: Takes into account also the rank of the relevant document, with responses with the relevant document ranked higher with have a bigger score"
   ]
  },
  {
   "cell_type": "code",
   "execution_count": 6,
   "id": "ef210906-1dc6-40ed-a02f-02c469d9acb5",
   "metadata": {},
   "outputs": [
    {
     "name": "stdout",
     "output_type": "stream",
     "text": [
      "--2024-09-19 05:36:58--  https://raw.githubusercontent.com/DataTalksClub/llm-zoomcamp/main/03-vector-search/eval/ground-truth-data.csv\n",
      "Resolving raw.githubusercontent.com (raw.githubusercontent.com)... 185.199.109.133, 185.199.108.133, 185.199.110.133, ...\n",
      "Connecting to raw.githubusercontent.com (raw.githubusercontent.com)|185.199.109.133|:443... connected.\n",
      "HTTP request sent, awaiting response... 200 OK\n",
      "Length: 504747 (493K) [text/plain]\n",
      "Saving to: ‘ground-truth-data.csv.1’\n",
      "\n",
      "ground-truth-data.c 100%[===================>] 492.92K  --.-KB/s    in 0.04s   \n",
      "\n",
      "2024-09-19 05:36:58 (12.0 MB/s) - ‘ground-truth-data.csv.1’ saved [504747/504747]\n",
      "\n"
     ]
    }
   ],
   "source": [
    "# Download the full dataset with ground truth\n",
    "# !wget https://raw.githubusercontent.com/DataTalksClub/llm-zoomcamp/main/03-vector-search/eval/ground-truth-data.csv"
   ]
  },
  {
   "cell_type": "code",
   "execution_count": 6,
   "id": "53d11bd0-c731-48fe-8309-d5763af8d28c",
   "metadata": {},
   "outputs": [
    {
     "data": {
      "text/html": [
       "<div>\n",
       "<style scoped>\n",
       "    .dataframe tbody tr th:only-of-type {\n",
       "        vertical-align: middle;\n",
       "    }\n",
       "\n",
       "    .dataframe tbody tr th {\n",
       "        vertical-align: top;\n",
       "    }\n",
       "\n",
       "    .dataframe thead th {\n",
       "        text-align: right;\n",
       "    }\n",
       "</style>\n",
       "<table border=\"1\" class=\"dataframe\">\n",
       "  <thead>\n",
       "    <tr style=\"text-align: right;\">\n",
       "      <th></th>\n",
       "      <th>question</th>\n",
       "      <th>course</th>\n",
       "      <th>document</th>\n",
       "    </tr>\n",
       "  </thead>\n",
       "  <tbody>\n",
       "    <tr>\n",
       "      <th>0</th>\n",
       "      <td>When does the course begin?</td>\n",
       "      <td>data-engineering-zoomcamp</td>\n",
       "      <td>c02e79ef</td>\n",
       "    </tr>\n",
       "    <tr>\n",
       "      <th>1</th>\n",
       "      <td>How can I get the course schedule?</td>\n",
       "      <td>data-engineering-zoomcamp</td>\n",
       "      <td>c02e79ef</td>\n",
       "    </tr>\n",
       "    <tr>\n",
       "      <th>2</th>\n",
       "      <td>What is the link for course registration?</td>\n",
       "      <td>data-engineering-zoomcamp</td>\n",
       "      <td>c02e79ef</td>\n",
       "    </tr>\n",
       "    <tr>\n",
       "      <th>3</th>\n",
       "      <td>How can I receive course announcements?</td>\n",
       "      <td>data-engineering-zoomcamp</td>\n",
       "      <td>c02e79ef</td>\n",
       "    </tr>\n",
       "    <tr>\n",
       "      <th>4</th>\n",
       "      <td>Where do I join the Slack channel?</td>\n",
       "      <td>data-engineering-zoomcamp</td>\n",
       "      <td>c02e79ef</td>\n",
       "    </tr>\n",
       "    <tr>\n",
       "      <th>5</th>\n",
       "      <td>Where can I find the prerequisites for this co...</td>\n",
       "      <td>data-engineering-zoomcamp</td>\n",
       "      <td>1f6520ca</td>\n",
       "    </tr>\n",
       "    <tr>\n",
       "      <th>6</th>\n",
       "      <td>How do I check the prerequisites for this course?</td>\n",
       "      <td>data-engineering-zoomcamp</td>\n",
       "      <td>1f6520ca</td>\n",
       "    </tr>\n",
       "    <tr>\n",
       "      <th>7</th>\n",
       "      <td>Where are the course prerequisites listed?</td>\n",
       "      <td>data-engineering-zoomcamp</td>\n",
       "      <td>1f6520ca</td>\n",
       "    </tr>\n",
       "    <tr>\n",
       "      <th>8</th>\n",
       "      <td>What are the requirements for joining this cou...</td>\n",
       "      <td>data-engineering-zoomcamp</td>\n",
       "      <td>1f6520ca</td>\n",
       "    </tr>\n",
       "    <tr>\n",
       "      <th>9</th>\n",
       "      <td>Where is the list of prerequisites for the cou...</td>\n",
       "      <td>data-engineering-zoomcamp</td>\n",
       "      <td>1f6520ca</td>\n",
       "    </tr>\n",
       "  </tbody>\n",
       "</table>\n",
       "</div>"
      ],
      "text/plain": [
       "                                            question  \\\n",
       "0                        When does the course begin?   \n",
       "1                 How can I get the course schedule?   \n",
       "2          What is the link for course registration?   \n",
       "3            How can I receive course announcements?   \n",
       "4                 Where do I join the Slack channel?   \n",
       "5  Where can I find the prerequisites for this co...   \n",
       "6  How do I check the prerequisites for this course?   \n",
       "7         Where are the course prerequisites listed?   \n",
       "8  What are the requirements for joining this cou...   \n",
       "9  Where is the list of prerequisites for the cou...   \n",
       "\n",
       "                      course  document  \n",
       "0  data-engineering-zoomcamp  c02e79ef  \n",
       "1  data-engineering-zoomcamp  c02e79ef  \n",
       "2  data-engineering-zoomcamp  c02e79ef  \n",
       "3  data-engineering-zoomcamp  c02e79ef  \n",
       "4  data-engineering-zoomcamp  c02e79ef  \n",
       "5  data-engineering-zoomcamp  1f6520ca  \n",
       "6  data-engineering-zoomcamp  1f6520ca  \n",
       "7  data-engineering-zoomcamp  1f6520ca  \n",
       "8  data-engineering-zoomcamp  1f6520ca  \n",
       "9  data-engineering-zoomcamp  1f6520ca  "
      ]
     },
     "execution_count": 6,
     "metadata": {},
     "output_type": "execute_result"
    }
   ],
   "source": [
    "# Open the full dataset with the ground truth\n",
    "df_ground_truth = pd.read_csv('ground-truth-data.csv')\n",
    "df_ground_truth.head(10)"
   ]
  },
  {
   "cell_type": "code",
   "execution_count": 7,
   "id": "f8bdaa99-79cb-4226-aa6a-99a22cba30fd",
   "metadata": {},
   "outputs": [
    {
     "name": "stdout",
     "output_type": "stream",
     "text": [
      "[{'question': 'When does the course begin?', 'course': 'data-engineering-zoomcamp', 'document': 'c02e79ef'}, {'question': 'How can I get the course schedule?', 'course': 'data-engineering-zoomcamp', 'document': 'c02e79ef'}, {'question': 'What is the link for course registration?', 'course': 'data-engineering-zoomcamp', 'document': 'c02e79ef'}, {'question': 'How can I receive course announcements?', 'course': 'data-engineering-zoomcamp', 'document': 'c02e79ef'}, {'question': 'Where do I join the Slack channel?', 'course': 'data-engineering-zoomcamp', 'document': 'c02e79ef'}]\n"
     ]
    }
   ],
   "source": [
    "# Create a list of records\n",
    "ground_truth = df_ground_truth.to_dict(orient='records')\n",
    "print(ground_truth[:5])"
   ]
  },
  {
   "cell_type": "markdown",
   "id": "c4f9fb01-166e-44c4-8830-677ff2aa2cec",
   "metadata": {},
   "source": [
    "### Create the two metrics we will examine"
   ]
  },
  {
   "cell_type": "code",
   "execution_count": 8,
   "id": "e51900e5-4d14-4f9f-accf-5579933c2ee7",
   "metadata": {},
   "outputs": [],
   "source": [
    "# Create the HR metric\n",
    "def hit_rate(relevance_total):\n",
    "    cnt = 0\n",
    "    for line in relevance_total:\n",
    "        if True in line:\n",
    "            cnt = cnt + 1\n",
    "\n",
    "    return cnt / len(relevance_total)"
   ]
  },
  {
   "cell_type": "code",
   "execution_count": 9,
   "id": "1b5ef0af-fc4f-4283-8099-e82d2fb2decf",
   "metadata": {},
   "outputs": [],
   "source": [
    "# Create the MRR metric\n",
    "def mrr(relevance_total):\n",
    "    total_score = 0.0\n",
    "\n",
    "    for line in relevance_total:\n",
    "        for rank in range(len(line)):\n",
    "            if line[rank] == True:\n",
    "                total_score = total_score + 1 / (rank + 1)\n",
    "\n",
    "    return total_score / len(relevance_total)"
   ]
  },
  {
   "cell_type": "markdown",
   "id": "4145d82f-c115-4152-8afc-73bae6f0e5e8",
   "metadata": {},
   "source": [
    "### Evaluate the elastic search"
   ]
  },
  {
   "cell_type": "code",
   "execution_count": 24,
   "id": "acb5fdca-cb54-46d1-aea5-30e733d93cce",
   "metadata": {},
   "outputs": [],
   "source": [
    "# Import Elastic Search\n",
    "from elasticsearch import Elasticsearch\n",
    "from tqdm.auto import tqdm"
   ]
  },
  {
   "cell_type": "code",
   "execution_count": 25,
   "id": "43da46ef-26c5-4bed-bd5b-a00aa6b06c41",
   "metadata": {},
   "outputs": [],
   "source": [
    "# Initialize the client \n",
    "es_client = Elasticsearch('http://localhost:9200') # This is the port created after running the docker file"
   ]
  },
  {
   "cell_type": "code",
   "execution_count": 26,
   "id": "0ddc38c1-b01b-4d65-a614-00c4d7e72fdc",
   "metadata": {},
   "outputs": [
    {
     "data": {
      "text/plain": [
       "ObjectApiResponse({'acknowledged': True, 'shards_acknowledged': True, 'index': 'course-questions'})"
      ]
     },
     "execution_count": 26,
     "metadata": {},
     "output_type": "execute_result"
    }
   ],
   "source": [
    "# Create the Schema of the Elastic Search Index\n",
    "index_settings = {\n",
    "    \"settings\": {\n",
    "        \"number_of_shards\": 1,\n",
    "        \"number_of_replicas\": 0\n",
    "    },\n",
    "    \"mappings\": {\n",
    "        \"properties\": {\n",
    "            \"text\": {\"type\": \"text\"},\n",
    "            \"section\": {\"type\": \"text\"},\n",
    "            \"question\": {\"type\": \"text\"},\n",
    "            \"course\": {\"type\": \"keyword\"},\n",
    "            \"id\": {\"type\": \"keyword\"}\n",
    "        }\n",
    "    }\n",
    "}\n",
    "\n",
    "# Provide the name of the index\n",
    "index_name = \"course-questions\"\n",
    "# Create the elastic search index\n",
    "response = es_client.indices.create(index=index_name, body=index_settings)\n",
    "# Verify that elastic search is created\n",
    "response"
   ]
  },
  {
   "cell_type": "code",
   "execution_count": 27,
   "id": "12ccaa0f-fd54-4dec-bfe1-341b7ba9ef9a",
   "metadata": {},
   "outputs": [
    {
     "data": {
      "application/vnd.jupyter.widget-view+json": {
       "model_id": "a8286f8a7b17494889d52e3d3d82c5a1",
       "version_major": 2,
       "version_minor": 0
      },
      "text/plain": [
       "  0%|          | 0/948 [00:00<?, ?it/s]"
      ]
     },
     "metadata": {},
     "output_type": "display_data"
    }
   ],
   "source": [
    "# Fit the documents into the elastic search index\n",
    "for doc in tqdm(documents):\n",
    "    es_client.index(index = index_name, document=doc)"
   ]
  },
  {
   "cell_type": "code",
   "execution_count": 28,
   "id": "41c7533d-0287-44de-9ef5-f1418d1fde22",
   "metadata": {},
   "outputs": [],
   "source": [
    "def elastic_search(query, course):\n",
    "    search_query = {\n",
    "        \"size\": 5,\n",
    "        \"query\": {\n",
    "            \"bool\": {\n",
    "                \"must\": {\n",
    "                    \"multi_match\": {\n",
    "                        \"query\": query,\n",
    "                        \"fields\": [\"question^3\", \"text\", \"section\"],\n",
    "                        \"type\": \"best_fields\"\n",
    "                    }\n",
    "                },\n",
    "                \"filter\": {\n",
    "                    \"term\": {\n",
    "                        \"course\": course\n",
    "                    }\n",
    "                }\n",
    "            }\n",
    "        }\n",
    "    }\n",
    "\n",
    "    response = es_client.search(index=index_name, body=search_query)\n",
    "    \n",
    "    result_docs = []\n",
    "    \n",
    "    for hit in response['hits']['hits']:\n",
    "        result_docs.append(hit['_source'])\n",
    "    \n",
    "    return result_docs"
   ]
  },
  {
   "cell_type": "code",
   "execution_count": 29,
   "id": "f472ac59-ea2f-4b9f-8139-fc9b50d1da28",
   "metadata": {},
   "outputs": [
    {
     "data": {
      "application/vnd.jupyter.widget-view+json": {
       "model_id": "77e0207470c14589bbbce3802a0eaf7a",
       "version_major": 2,
       "version_minor": 0
      },
      "text/plain": [
       "  0%|          | 0/4627 [00:00<?, ?it/s]"
      ]
     },
     "metadata": {},
     "output_type": "display_data"
    }
   ],
   "source": [
    "# Parse the ground truth queries to see if you can find the relevant documents\n",
    "relevance_total = []\n",
    "# Create a request for each query in ground truth\n",
    "for q in tqdm(ground_truth):\n",
    "    doc_id = q['document']\n",
    "    results = elastic_search(query=q['question'], course=q['course'])\n",
    "    relevance = [d['id'] == doc_id for d in results]\n",
    "    relevance_total.append(relevance)"
   ]
  },
  {
   "cell_type": "code",
   "execution_count": 30,
   "id": "43e8e519-eca9-4f45-bb99-d8ff43ce4712",
   "metadata": {},
   "outputs": [
    {
     "data": {
      "text/plain": [
       "(0.7395720769397017, 0.6029788920106625)"
      ]
     },
     "execution_count": 30,
     "metadata": {},
     "output_type": "execute_result"
    }
   ],
   "source": [
    "# Evaluate the search method\n",
    "hit_rate(relevance_total), mrr(relevance_total)"
   ]
  },
  {
   "cell_type": "code",
   "execution_count": 31,
   "id": "189c46b5-198f-40de-a8dd-a3b92278a022",
   "metadata": {},
   "outputs": [],
   "source": [
    "# Create a function to evaluate different search_functions\n",
    "def evaluate(ground_truth, search_function):\n",
    "    relevance_total = []\n",
    "\n",
    "    for q in tqdm(ground_truth):\n",
    "        doc_id = q['document']\n",
    "        results = search_function(q)\n",
    "        relevance = [d['id'] == doc_id for d in results]\n",
    "        relevance_total.append(relevance)\n",
    "\n",
    "    return {\n",
    "        'hit_rate': hit_rate(relevance_total),\n",
    "        'mrr': mrr(relevance_total),\n",
    "    }"
   ]
  },
  {
   "cell_type": "markdown",
   "id": "fc3c9271-cbee-4332-87b7-696f281fd5b3",
   "metadata": {},
   "source": [
    "## Evaluate vector search\n",
    "\n",
    "To evaluate the vector search we need to follow the following steps:\n",
    "- Initialize a transformer model to create embedding\n",
    "- Create the embeddings of the specific fields of the FAQ record\n",
    "- Adjust the Index settings in Elastic Search and index these embeddings\n",
    "- Create the embedding of the user query and query the data\n",
    "- Calculate the HR and MRR metrics comparing the retrieved data with the ground truth dataset"
   ]
  },
  {
   "cell_type": "markdown",
   "id": "cedd3bb9-e8c1-422d-a2b6-3b7c57c6befa",
   "metadata": {},
   "source": [
    "### Initialize a transformer model to create embedding"
   ]
  },
  {
   "cell_type": "code",
   "execution_count": 32,
   "id": "02382292",
   "metadata": {},
   "outputs": [],
   "source": [
    "# Import the library to create the embeddings\n",
    "from sentence_transformers import SentenceTransformer"
   ]
  },
  {
   "cell_type": "code",
   "execution_count": 33,
   "id": "cacdb62c-805c-4d7d-8aa4-3fea54cc5659",
   "metadata": {},
   "outputs": [
    {
     "name": "stderr",
     "output_type": "stream",
     "text": [
      "/Users/georgestavrakis/opt/anaconda3/envs/LLMZoomcamp/lib/python3.10/site-packages/transformers/tokenization_utils_base.py:1601: FutureWarning: `clean_up_tokenization_spaces` was not set. It will be set to `True` by default. This behavior will be depracted in transformers v4.45, and will be then set to `False` by default. For more details check this issue: https://github.com/huggingface/transformers/issues/31884\n",
      "  warnings.warn(\n"
     ]
    },
    {
     "data": {
      "text/plain": [
       "384"
      ]
     },
     "execution_count": 33,
     "metadata": {},
     "output_type": "execute_result"
    }
   ],
   "source": [
    "# Initialize the selected model to create the embeddings\n",
    "model = SentenceTransformer(\"multi-qa-MiniLM-L6-cos-v1\")\n",
    "\n",
    "# Create an initial vector / embedding of the answer using the model\n",
    "res = model.encode(ground_truth[0]['question'])\n",
    "# Find the dimensionality of this vector\n",
    "len(res)"
   ]
  },
  {
   "cell_type": "markdown",
   "id": "5a60726c-7b15-4cb7-a7b0-6aa797a0e374",
   "metadata": {},
   "source": [
    "### Create the embeddings of the specific fields of the FAQ record"
   ]
  },
  {
   "cell_type": "code",
   "execution_count": 44,
   "id": "1cb77f6f-6f40-443f-baa6-c95906f8f14e",
   "metadata": {},
   "outputs": [
    {
     "data": {
      "application/vnd.jupyter.widget-view+json": {
       "model_id": "508e8a40ddcd4a6c957fb695c503d611",
       "version_major": 2,
       "version_minor": 0
      },
      "text/plain": [
       "  0%|          | 0/948 [00:00<?, ?it/s]"
      ]
     },
     "metadata": {},
     "output_type": "display_data"
    }
   ],
   "source": [
    "# Create the embeddings for each record in our FAQ dataset\n",
    "for doc in tqdm(documents):\n",
    "    # Extract the text fields you want to embed\n",
    "    question = doc['question']\n",
    "    text = doc['text']\n",
    "    question_text = doc['question'] + ' ' + doc['text']\n",
    "    \n",
    "    # Create the embedding for each text field\n",
    "    doc['question_vector'] = model.encode(question)\n",
    "    doc['text_vector'] = model.encode(text)\n",
    "    doc['question_text_vector'] = model.encode(question_text)"
   ]
  },
  {
   "cell_type": "markdown",
   "id": "73b69757-0e9c-4857-83ed-cb0260a0c43b",
   "metadata": {},
   "source": [
    "### Adjust the Index settings in Elastic Search and index these embeddings"
   ]
  },
  {
   "cell_type": "code",
   "execution_count": 46,
   "id": "94800550-3c0c-4843-b569-4772b05bfa6e",
   "metadata": {},
   "outputs": [
    {
     "data": {
      "text/plain": [
       "ObjectApiResponse({'acknowledged': True, 'shards_acknowledged': True, 'index': 'vector_questions'})"
      ]
     },
     "execution_count": 46,
     "metadata": {},
     "output_type": "execute_result"
    }
   ],
   "source": [
    "# Create the Schema of the Elastic Search Index\n",
    "index_settings = {\n",
    "    \"settings\": {\n",
    "        \"number_of_shards\": 1,\n",
    "        \"number_of_replicas\": 0\n",
    "    },\n",
    "    \"mappings\": {\n",
    "        \"properties\": {\n",
    "            \"text\": {\"type\": \"text\"},\n",
    "            \"section\": {\"type\": \"text\"},\n",
    "            \"question\": {\"type\": \"text\"},\n",
    "            \"course\": {\"type\": \"keyword\"},\n",
    "            \"id\": {\"type\": \"keyword\"},\n",
    "            \"question_vector\": {\n",
    "                \"type\": \"dense_vector\",\n",
    "                \"dims\": 384,            # Here we are using the dimensionality of the embedding we want to store \n",
    "                \"index\": True,\n",
    "                \"similarity\": \"cosine\"\n",
    "            },\n",
    "            \"text_vector\": {\n",
    "                \"type\": \"dense_vector\",\n",
    "                \"dims\": 384,            # Here we are using the dimensionality of the embedding we want to store \n",
    "                \"index\": True,\n",
    "                \"similarity\": \"cosine\"\n",
    "            },\n",
    "            \"question_text_vector\": {\n",
    "                \"type\": \"dense_vector\",\n",
    "                \"dims\": 384,            # Here we are using the dimensionality of the embedding we want to store \n",
    "                \"index\": True,\n",
    "                \"similarity\": \"cosine\"\n",
    "            }\n",
    "        }\n",
    "    }\n",
    "}\n",
    "\n",
    "# Provide the name of the index\n",
    "index_name = \"vector_questions\"\n",
    "# Create the elastic search index\n",
    "response = es_client.indices.create(index=index_name, body=index_settings)\n",
    "# Verify that elastic search is created\n",
    "response"
   ]
  },
  {
   "cell_type": "code",
   "execution_count": 47,
   "id": "197a24d4-7c30-4cb7-9d85-7f4026c39190",
   "metadata": {},
   "outputs": [
    {
     "data": {
      "application/vnd.jupyter.widget-view+json": {
       "model_id": "7ca5ba1fccbf40fcb38b118f004b9c55",
       "version_major": 2,
       "version_minor": 0
      },
      "text/plain": [
       "  0%|          | 0/948 [00:00<?, ?it/s]"
      ]
     },
     "metadata": {},
     "output_type": "display_data"
    }
   ],
   "source": [
    "# Index the documents along with their vectors in the new index\n",
    "for doc in tqdm(documents):\n",
    "    es_client.index(index = index_name, document = doc)"
   ]
  },
  {
   "cell_type": "code",
   "execution_count": 48,
   "id": "55825738-ac85-452a-b62c-c3e4d12b31c4",
   "metadata": {},
   "outputs": [],
   "source": [
    "# Create the new elastic seach query for the vector search\n",
    "\n",
    "def elastic_search_knn(field, vector, course):\n",
    "    knn = {\n",
    "        \"field\": field,\n",
    "        \"query_vector\": vector,\n",
    "        \"k\": 5,\n",
    "        \"num_candidates\": 10000,\n",
    "        \"filter\": {\n",
    "            \"term\": {\n",
    "                \"course\": course\n",
    "            }\n",
    "        }\n",
    "    }\n",
    "\n",
    "    search_query = {\n",
    "        \"knn\": knn,\n",
    "        \"_source\": [\"text\", \"section\", \"question\", \"course\", \"id\"]\n",
    "    }\n",
    "\n",
    "    es_results = es_client.search(\n",
    "        index=index_name,\n",
    "        body=search_query\n",
    "    )\n",
    "    \n",
    "    result_docs = []\n",
    "    \n",
    "    for hit in es_results['hits']['hits']:\n",
    "        result_docs.append(hit['_source'])\n",
    "\n",
    "    return result_docs"
   ]
  },
  {
   "cell_type": "code",
   "execution_count": 49,
   "id": "5f31cb67",
   "metadata": {},
   "outputs": [
    {
     "name": "stdout",
     "output_type": "stream",
     "text": [
      "First document: {'text': \"The purpose of this document is to capture frequently asked technical questions\\nThe exact day and hour of the course will be 15th Jan 2024 at 17h00. The course will start with the first  “Office Hours'' live.1\\nSubscribe to course public Google Calendar (it works from Desktop only).\\nRegister before the course starts using this link.\\nJoin the course Telegram channel with announcements.\\nDon’t forget to register in DataTalks.Club's Slack and join the channel.\", 'section': 'General course-related questions', 'question': 'Course - When will the course start?', 'course': 'data-engineering-zoomcamp', 'id': 'c02e79ef', 'qiestion_vector': [0.02167384885251522, -0.03277144953608513, 0.008715257979929447, 0.014801074750721455, -0.037810053676366806, 0.04800639674067497, -0.13883855938911438, -0.0624319352209568, -0.07272450625896454, 0.0355244055390358, -0.01355147734284401, 0.03751121833920479, -0.013055918738245964, 0.0789821520447731, -0.031433992087841034, -0.019571352750062943, 9.119526657741517e-05, -0.11524493247270584, 0.08325013518333435, 0.010166754014790058, 0.0030288617126643658, 0.021662423387169838, -0.006400355603545904, 0.01956232264637947, -0.006027230527251959, -0.006442835088819265, 0.010842419229447842, -0.03511597216129303, 0.026352446526288986, 0.005196135025471449, -0.04613179340958595, -0.02148897759616375, 0.032979242503643036, 0.05624593421816826, -0.0011973072541877627, 0.058131396770477295, 0.031085392460227013, -0.02471970021724701, -0.02170383743941784, 0.09068099409341812, -0.04238354042172432, -0.031173627823591232, -0.021251507103443146, 0.0501881018280983, 0.13087080419063568, 0.05083880573511124, 0.011394410394132137, -0.042756401002407074, 0.028955549001693726, 0.00187592557631433, -0.026684312149882317, -0.059013351798057556, 0.0015361118130385876, -0.06255445629358292, -0.027808191254734993, 0.09807536005973816, -0.015819234773516655, 0.031979750841856, -0.034207534044981, 0.07183625549077988, -0.09220316261053085, -0.05469346418976784, -0.10821288824081421, 0.012522470206022263, -0.014943864196538925, 0.008367976173758507, -0.0009935039561241865, 0.09381865710020065, 0.06443728506565094, -0.03172031417489052, -0.015602301806211472, 0.01475869957357645, 0.08479377627372742, -0.011857694946229458, 0.05951128154993057, 0.020003480836749077, -0.0013537938939407468, 0.06629996746778488, 0.05618495121598244, -0.09947704523801804, -0.012082323431968689, 0.01882447488605976, 0.020879780873656273, 0.028794974088668823, -0.03468623757362366, 0.0030738457571715117, 0.006299726665019989, 0.006565881427377462, -0.024032507091760635, -0.019496774300932884, 0.06536947935819626, -0.08827866613864899, -0.07399002462625504, 0.0832417830824852, -0.044122058898210526, 0.11488033831119537, -0.006352709140628576, -0.0500124916434288, 0.05345107987523079, -0.01396543625742197, -0.024905208498239517, 0.048448484390974045, 0.004990321584045887, -0.015442361123859882, -0.008416922762989998, -0.03799843043088913, 0.04372943192720413, 0.0043504382483661175, 0.009200419299304485, -0.024048836901783943, 0.06302355974912643, -0.0002484571887180209, 0.058223746716976166, -0.019082315266132355, -0.029437124729156494, 0.0967182070016861, 0.013588080182671547, 0.04523880407214165, 0.0030497321859002113, 0.03833400830626488, -0.01762169413268566, 0.03539413958787918, 0.04037684202194214, -0.030724016949534416, -0.06930992752313614, -0.045652370899915695, -0.0384543240070343, 1.2908473041803438e-30, -0.04142650589346886, -0.09394199401140213, 0.009455361403524876, -0.018287260085344315, -0.01946881227195263, -0.08361420035362244, 0.03897051140666008, 0.03662686422467232, -0.0663580596446991, 0.05646008625626564, 0.013451791368424892, -0.043527644127607346, -0.004696645308285952, -0.01998341828584671, 0.060490865260362625, -0.12543286383152008, -0.027097187936306, -0.06768611818552017, -0.043939899653196335, -0.009914150461554527, -0.018334606662392616, 0.013372392393648624, -0.01687328703701496, -0.07577438652515411, -0.004239402711391449, 0.049906905740499496, 0.030453931540250778, 0.04297639802098274, -0.011434048414230347, 0.006599470041692257, 0.04579900950193405, 0.01019793376326561, -0.1702549159526825, 0.023856448009610176, -0.007324397563934326, 0.07461721450090408, 0.012199541553854942, 0.02624136582016945, 0.13034610450267792, -0.11772558838129044, -0.01830325648188591, -0.0021754740737378597, 0.024356843903660774, -0.026911383494734764, 0.02172628417611122, -0.008037211373448372, 0.05060706287622452, -0.01970982924103737, 0.1176016628742218, -0.006872094236314297, -0.04858040437102318, -0.03633676841855049, -0.0044761230237782, -0.06491167098283768, 0.014882952906191349, 0.012623975053429604, 0.034857574850320816, 0.01974843628704548, -0.07578248530626297, -0.03868556395173073, 0.07009764760732651, -0.0038434418383985758, -0.028847364708781242, 0.039876073598861694, -0.12415413558483124, -0.01410599797964096, -0.04146445542573929, -0.04982554167509079, 0.04469909146428108, -0.03022448718547821, -0.030261699110269547, 0.013678285293281078, -0.06165967509150505, -0.058120209723711014, 0.05949348211288452, 0.0666516125202179, 0.0012523224577307701, -0.022107455879449844, 0.07104627788066864, 0.011119146831333637, -0.04408571124076843, -0.011530006304383278, -0.006345305126160383, 0.039650119841098785, -0.02501348964869976, 0.03799406439065933, 0.046200476586818695, 0.016664911061525345, 0.010631137527525425, -0.03859920799732208, -0.06711923331022263, -0.005667094606906176, 0.021438568830490112, 0.11262022703886032, 0.12841422855854034, -1.954830207686171e-33, 0.10860247164964676, 0.08620869368314743, -0.032883573323488235, -0.0014029174344614148, 0.06957711279392242, -0.04935290291905403, -0.00835071038454771, 0.08846744149923325, 0.027311226353049278, 0.0639813095331192, -0.013082689605653286, -0.011338791809976101, 0.013657805509865284, 0.009315554052591324, 0.021521730348467827, -0.04787766560912132, 0.0336652435362339, -0.01508948765695095, -0.0025435006245970726, 0.0075634196400642395, -0.043457843363285065, 0.05380820482969284, -0.07804201543331146, -0.102485790848732, 0.02402724325656891, -0.027532432228326797, 0.13189160823822021, -0.019578002393245697, -0.00957380048930645, 0.030354544520378113, 0.05646928772330284, -0.05356061831116676, 0.015405259095132351, 0.0036529279313981533, -0.033894799649715424, 0.033488620072603226, -0.014751414768397808, -0.025679603219032288, -0.052867040038108826, 0.05505480244755745, 0.07145975530147552, -0.01331998873502016, -0.005924841854721308, -0.01612786389887333, -0.015229355543851852, 0.007168448995798826, 0.10705335438251495, 0.0450693741440773, 0.016019655391573906, 0.05363250523805618, -0.048546724021434784, 0.002595091937109828, -0.021679172292351723, -0.07236180454492569, 0.07027175277471542, 0.03746499493718147, -0.030871527269482613, -0.0062712994404137135, -0.05472106859087944, -0.0023767142556607723, 0.017042962834239006, 0.027064498513936996, -0.017644107341766357, -0.02317803166806698, -0.026697661727666855, 0.01879975199699402, -0.059376638382673264, 0.09883801639080048, 0.010606273077428341, 0.030879653990268707, -0.03889589384198189, 0.007986693643033504, -0.014445866458117962, -0.11677379161119461, -0.03980474919080734, -0.025576021522283554, 0.028563518077135086, 0.025798548012971878, -0.018545720726251602, -0.0018253722228109837, -0.0113148745149374, 0.04444986209273338, -0.12611381709575653, 0.08070721477270126, 0.009220830164849758, 0.09091847389936447, 0.08089014142751694, -0.04043056443333626, 0.016567913815379143, 0.014866429381072521, 0.05576689541339874, -0.02902405522763729, 0.049930982291698456, 0.026387935504317284, -0.07315311580896378, -6.146926650730584e-33, -0.044602859765291214, -0.003205155488103628, 0.004337534308433533, 0.06423497945070267, 0.04637572169303894, 0.03303380310535431, 0.01867109350860119, 0.023170797154307365, 0.010309027507901192, 0.13827058672904968, -0.016988804563879967, 0.08452309668064117, -0.02186746895313263, -0.01891198381781578, 0.0009665226098150015, 0.059163570404052734, -0.016553539782762527, 0.07368988543748856, -0.0176677443087101, -0.01145369466394186, -0.007754635065793991, -0.00243560248054564, 0.0600648857653141, 0.004942373372614384, -0.06055649742484093, -0.0502830445766449, -0.00750042824074626, -0.00875891838222742, -0.044338420033454895, 0.03986969217658043, 0.029796628281474113, 0.06149022653698921, -0.002000895794481039, -0.05167211592197418, -0.06334644556045532, -0.030926579609513283, -0.08224637806415558, 0.0012121209874749184, 0.06750000268220901, 0.03160463273525238, -0.05761495605111122, 0.021342473104596138, 0.06464406847953796, 0.06390296667814255, 0.04885292798280716, 0.021617142483592033, -0.12068770825862885, -0.01871061697602272, 0.028378786519169807, -0.06643146276473999, -0.052389323711395264, 0.04316099360585213, -0.08853153139352798, -0.05743768438696861, 0.11887068301439285, 0.11082417517900467, 0.017748698592185974, -0.07254533469676971, -0.07551700621843338, -0.016345247626304626, -0.0750909075140953, -0.11991347372531891, -0.019017895683646202, 0.008823351934552193], 'text_vector': [-0.026831243187189102, 0.03133708983659744, 0.022799519822001457, 0.008871168829500675, -0.07179975509643555, -0.017083771526813507, -0.07612563669681549, -0.07424446195363998, 0.0010462894570082426, -0.007499402854591608, -0.04740607365965843, 0.019648440182209015, -0.00598532147705555, -0.027011625468730927, 0.003514479845762253, -0.025316350162029266, 0.02217213064432144, -0.13637623190879822, 0.034445490688085556, -0.02877539023756981, 0.007698470260947943, -0.020520053803920746, -0.03239170089364052, 0.03746356442570686, 0.041405804455280304, 0.007842183113098145, 0.007148620672523975, -0.017202405259013176, 0.061537060886621475, -0.0008973157382570207, 0.04929622635245323, -0.0747499167919159, 0.08857233822345734, 0.04744866117835045, -1.2216205504955724e-05, 0.05555155873298645, 0.06853438913822174, -0.050091665238142014, 0.0551176443696022, 0.07647131383419037, -0.010897631756961346, -0.11904219537973404, -0.04364202171564102, 0.04346461594104767, 0.11426448822021484, -0.019544411450624466, -0.029821669682860374, -0.051464904099702835, 0.0013945678947493434, 0.04514780640602112, -0.00815622042864561, -0.06999211013317108, -0.040200695395469666, 0.031288523226976395, -0.05737599730491638, 0.12083280086517334, -0.02995125949382782, 0.1054275706410408, 0.03289291635155678, 0.014261454343795776, -0.09918688982725143, -0.05028427392244339, -0.07880935817956924, 0.05008777603507042, -0.07689830660820007, 0.07018784433603287, -0.005906561855226755, 0.12708742916584015, 0.06317102164030075, -0.0517328605055809, -0.045032013207674026, -0.0057127405889332294, 0.00024861283600330353, 0.06401276588439941, 0.03226475417613983, -0.043492626398801804, 0.00602499907836318, 0.00854406226426363, 0.0045695011503994465, 0.008849941194057465, -0.004164836835116148, 0.009002938866615295, 0.010883735492825508, 0.060701463371515274, 0.016827456653118134, -0.0025366090703755617, 0.07625593990087509, 0.08350856602191925, -0.0036612951662391424, 0.030465994030237198, 0.03082919865846634, 0.014742730185389519, -0.0833098292350769, 0.06089749559760094, -0.008729767985641956, 0.040142565965652466, 0.013266846537590027, -0.0045728120021522045, 0.03196254372596741, 0.022995175793766975, -0.056872885674238205, 0.09515455365180969, -0.020743053406476974, 0.0026807498652487993, -0.010327966883778572, -0.018750693649053574, -0.05300141125917435, 0.020973892882466316, 0.04663541540503502, 0.0003538796736393124, -0.02611137181520462, 0.06514695286750793, 0.038026049733161926, -0.06474989652633667, 0.03308390825986862, 0.05814724043011665, -0.041978869587183, 0.019962454214692116, 0.06285062432289124, 0.016967568546533585, 0.013449819758534431, 0.07453256100416183, 0.013092683628201485, -0.05974935367703438, -0.04145347699522972, -0.011130639351904392, 0.062300730496644974, -1.978966368705376e-31, -0.004496833775192499, -0.02296828106045723, -0.05745217949151993, -0.01734393835067749, -0.006053469143807888, -0.035001400858163834, -0.06560865789651871, 0.0051667215302586555, -0.04556319862604141, 0.019573265686631203, -0.01198155153542757, 0.019704824313521385, 0.017922675237059593, 0.0018054371466860175, -0.012650366872549057, -0.013666131533682346, 0.011409467086195946, 0.0221476461738348, 0.03377969563007355, 0.03832263499498367, 0.006480335257947445, -0.0874701738357544, 0.013624178245663643, -0.04424377530813217, 0.06395578384399414, 0.0491451732814312, 0.014325202442705631, -0.011812513694167137, 0.050829458981752396, 0.015812532976269722, 0.03943663462996483, -0.09342585504055023, -0.043405815958976746, -0.0025279957335442305, 0.04347112774848938, -0.006567766889929771, -0.0414416566491127, -0.03282136842608452, 0.11716709285974503, -0.07528392970561981, 0.0178813636302948, -0.028038743883371353, 0.040754370391368866, -0.03221740201115608, 0.02014138549566269, 0.026468243449926376, 0.03744695708155632, -0.04856809228658676, 0.14127981662750244, 0.03377561643719673, -0.0241225678473711, -0.020495280623435974, -0.023347701877355576, -0.04597829654812813, 0.010801084339618683, -0.05071043223142624, -0.007079310715198517, -0.04783972352743149, -0.014284605160355568, -0.0652889683842659, 0.05225539579987526, 0.03634367510676384, 0.056021399796009064, 0.014816825278103352, -0.04070398211479187, -0.07126457244157791, -0.09615430980920792, -0.011076846159994602, 0.13499021530151367, -0.08913265913724899, -0.031937580555677414, -0.04720420390367508, -0.05492585524916649, -0.074335478246212, -0.017886515706777573, 0.023691684007644653, 0.01666189357638359, -0.03246309608221054, 0.061349526047706604, 0.06916143000125885, 0.05599261075258255, -0.06823176890611649, 0.04711156338453293, -0.02707783505320549, 0.01823754794895649, 0.06543508917093277, 0.09453997015953064, -0.05302909389138222, 0.006432866677641869, 0.03872349485754967, -0.16302144527435303, 0.01524136308580637, -0.031655725091695786, 0.10103871673345566, 0.09499350190162659, -4.612417223383969e-33, 0.10002409666776657, -0.018830468878149986, -0.061962440609931946, -0.0016760369762778282, 0.0349879115819931, -0.051003772765398026, -0.037806153297424316, 0.10858093947172165, 0.025623390451073647, 0.11974098533391953, 0.03222867101430893, 0.0034426688216626644, -0.0313265286386013, 0.008543401025235653, 0.028523575514554977, -0.06042780727148056, 0.025829752907156944, 0.005082429386675358, -0.01346413604915142, 0.02095496840775013, -0.08286770433187485, 0.01967611163854599, -0.10629191994667053, -0.05334971845149994, 0.059375837445259094, -0.051235053688287735, 0.06465881317853928, -0.007113365922123194, 0.06412208080291748, 0.009034600108861923, -0.006119457073509693, -0.07639646530151367, -0.03800223022699356, 0.03492628037929535, 0.038549307733774185, 0.11612138152122498, 0.05397384613752365, 0.014688790775835514, 0.009577666409313679, 0.003075622022151947, 0.08865701407194138, 0.018124345690011978, -0.07623548805713654, -0.07657933980226517, 0.0008203175966627896, 0.0862295925617218, 0.006699481979012489, 0.06301427632570267, -0.1208403930068016, 0.017027417197823524, 0.04614714905619621, 0.009982697665691376, 0.0012596136657521129, -0.003803391009569168, 0.06877733767032623, 0.016895242035388947, 0.014098177663981915, -0.0715370923280716, -0.03572255000472069, -0.017418745905160904, -0.029858551919460297, -0.05240260064601898, 0.028244568035006523, 0.004430399741977453, -0.016812164336442947, -0.03835879638791084, 0.01922232285141945, 0.022162355482578278, -0.041952911764383316, 0.03144005313515663, -0.0699990764260292, -0.00849885307252407, -0.026265064254403114, -0.1425798386335373, -0.0022411576937884092, 0.04375335946679115, -0.028957946226000786, 0.04587564244866371, -0.06312431395053864, -0.029595395550131798, 0.005542391911149025, 0.07517848908901215, -0.006573627237230539, -0.007998018525540829, -0.05052824318408966, 0.07258967310190201, 0.0792919397354126, 0.027259044349193573, -0.013305490836501122, 0.01599068008363247, 0.012430823408067226, -0.012623484246432781, -0.004101618658751249, 0.08157413452863693, 0.00838761031627655, -5.8042909859590114e-33, -0.02636449970304966, 0.02465249039232731, 0.0012378147803246975, -0.005031032487750053, 0.03691856190562248, -0.003154691541567445, -0.047928646206855774, -0.08590351045131683, 0.03711296245455742, 0.09331075847148895, 0.07475189864635468, -0.06369240581989288, -0.04969587177038193, -0.06715840101242065, 0.009533844888210297, -0.007033695001155138, -0.0735701397061348, -0.01841636188328266, -0.002267242409288883, -0.03179739788174629, 0.045739445835351944, -0.02710193395614624, -0.02342996373772621, -0.03671208396553993, 0.011795868165791035, -0.023193124681711197, 0.058417804539203644, 0.11407172679901123, -0.05021517723798752, 0.013931923545897007, -0.011562549509108067, 0.05787796154618263, -0.07296420633792877, -0.10463335365056992, -0.05916551128029823, -0.023995416238904, -0.06526568531990051, -0.04073968902230263, 0.023924125358462334, 0.0902193933725357, -0.005209324881434441, -0.04755401983857155, 0.02041970193386078, 0.017919734120368958, 0.04409392550587654, 0.02908071130514145, -0.0281008780002594, 0.006007309537380934, 0.015340765006840229, -0.026493102312088013, 0.0036058409605175257, -0.0223375353962183, 0.00741574726998806, -0.090528704226017, 0.07163144648075104, 0.10392861068248749, 0.07602803409099579, -0.06314997375011444, -0.04693250730633736, -0.05498204752802849, -0.06571780145168304, 0.017342807725071907, -0.046738021075725555, -0.06328725814819336], 'qiestion_text_vector': [-0.024741485714912415, 0.012525072321295738, 0.018679006025195122, -0.00244599930010736, -0.0629660040140152, -0.0014720999170094728, -0.09398811310529709, -0.07706896215677261, -0.024258939549326897, -0.002658956917002797, -0.03137565404176712, 0.025898585096001625, 0.00012767394946422428, 0.0011656727874651551, 0.005246581044048071, -0.027548285201191902, 0.012511109933257103, -0.14804230630397797, 0.03980831056833267, -0.007598444819450378, 0.008631053380668163, -0.011888537555932999, -0.025514384731650352, 0.032488156110048294, 0.02938574180006981, 0.015854042023420334, 0.020690731704235077, -0.02255440503358841, 0.05481421574950218, 0.009730030782520771, 0.02404075674712658, -0.07032454013824463, 0.08463677018880844, 0.05136994272470474, -0.008639911189675331, 0.0517791211605072, 0.04369189217686653, -0.04955637827515602, 0.04172463342547417, 0.08606511354446411, -0.020145805552601814, -0.09766698628664017, -0.044423360377550125, 0.04236694797873497, 0.14045971632003784, -0.0045498572289943695, -0.009790928103029728, -0.05906064435839653, 0.012840515933930874, 0.022049400955438614, -0.016967806965112686, -0.0727972760796547, -0.03530733287334442, 0.018329499289393425, -0.06357397884130478, 0.11877939105033875, -0.03109569661319256, 0.09821061044931412, 0.01446444634348154, 0.023008137941360474, -0.11432456970214844, -0.054885610938072205, -0.0979958325624466, 0.03053613193333149, -0.06786391139030457, 0.06985366344451904, -0.005836952943354845, 0.13005203008651733, 0.07017137855291367, -0.03549367934465408, -0.043307118117809296, 0.017247777432203293, 0.029415268450975418, 0.05792456492781639, 0.04226088896393776, -0.04194676876068115, 0.018435703590512276, 0.017571475356817245, 0.027018673717975616, -0.021521618589758873, -0.011189582757651806, 0.019889352843165398, 0.01429608091711998, 0.05939934402704239, -0.0018090297235175967, -0.008607245050370693, 0.07635917514562607, 0.06035977974534035, -0.028079761192202568, 0.029999075457453728, 0.04430605471134186, -0.011582743376493454, -0.08076072484254837, 0.0766543373465538, -0.0012202842626720667, 0.06184756010770798, 0.005533070303499699, -0.015430375002324581, 0.05348072201013565, -0.002034981269389391, -0.059395499527454376, 0.08744334429502487, -0.023734457790851593, 0.011955284513533115, -0.013106180354952812, -0.022986428812146187, -0.055273521691560745, 0.0212443545460701, 0.041877493262290955, -0.005870862863957882, -0.0027510833460837603, 0.05729370936751366, 0.038072746247053146, -0.06085900217294693, 0.021112116053700447, 0.061444804072380066, -0.039277493953704834, 0.026696542277932167, 0.04616482928395271, 0.03376605734229088, 0.02282012440264225, 0.07696288824081421, 0.018306823447346687, -0.05171852558851242, -0.04043705016374588, -0.029319122433662415, 0.04872908815741539, -7.127413100907178e-32, 0.0010534542379900813, -0.04723880812525749, -0.04945705458521843, -0.013558981008827686, -0.013132615014910698, -0.02280965819954872, -0.05328438803553581, 0.043521005660295486, -0.06302525103092194, 0.03344360366463661, -0.0022200022358447313, 0.005010131746530533, 0.00984700582921505, 0.006438600830733776, 0.013405419886112213, -0.03334396705031395, 0.013249575160443783, -0.0031729775946587324, 0.002079348312690854, 0.015927515923976898, -0.008983209729194641, -0.05164288356900215, 0.008944081142544746, -0.05778391659259796, 0.037815939635038376, 0.05228189378976822, 0.01985463872551918, 0.005736867431551218, 0.019791968166828156, 0.013128644786775112, 0.04087516665458679, -0.08151423931121826, -0.07802218198776245, 0.014507744461297989, 0.01997590810060501, 0.010950802825391293, -0.033521637320518494, -0.007923089899122715, 0.12858332693576813, -0.10382043570280075, 0.015627289190888405, -0.020787673071026802, 0.0356338806450367, -0.02898607961833477, 0.030158070847392082, 0.015638258308172226, 0.04509466513991356, -0.053808946162462234, 0.14500686526298523, 0.03683899715542793, -0.038605768233537674, -0.02775879018008709, -0.022313496097922325, -0.04718140512704849, 0.010054068639874458, -0.046296875923871994, 0.008700945414602757, -0.048111721873283386, -0.03275594487786293, -0.0650152638554573, 0.061543770134449005, 0.014225538820028305, 0.03657978028059006, 0.02751901187002659, -0.07056494057178497, -0.07526202499866486, -0.096409372985363, -0.017651386559009552, 0.1048826053738594, -0.08059956878423691, -0.029756175354123116, -0.040773674845695496, -0.06631758064031601, -0.07326027005910873, 0.00585141172632575, 0.05559757351875305, 0.015271780081093311, -0.03272311016917229, 0.06349111348390579, 0.052824970334768295, 0.018735792487859726, -0.05473237484693527, 0.034602951258420944, -0.005358009599149227, -0.007553229574114084, 0.06863155961036682, 0.09452822059392929, -0.04853053763508797, 0.01913418434560299, 0.04765976592898369, -0.14504075050354004, 0.01818431168794632, -0.02650991454720497, 0.12277690321207047, 0.11448584496974945, -4.787551187977105e-33, 0.10834366083145142, 0.023569853976368904, -0.06056937947869301, -0.017420191317796707, 0.05159815400838852, -0.05559571459889412, -0.03455878049135208, 0.11171669512987137, 0.030833039432764053, 0.13032299280166626, 0.03345641493797302, 0.005852078553289175, -0.027800962328910828, -0.0025773923844099045, 0.03376496210694313, -0.05391461029648781, 0.005512659903615713, 0.0026398920454084873, -0.01923316717147827, 0.023623935878276825, -0.09091072529554367, -0.0010137426434084773, -0.10828577727079391, -0.07583735138177872, 0.0540994293987751, -0.052404385060071945, 0.08861251175403595, -0.006891028955578804, 0.05987023934721947, 0.015930980443954468, 0.00351938558742404, -0.07187609374523163, -0.002005216432735324, 0.028199341148138046, 0.03653058409690857, 0.10551287233829498, 0.03508288785815239, -0.0028884157072752714, 0.009322511032223701, 0.004363680258393288, 0.09338632971048355, 0.023524755612015724, -0.08108911663293839, -0.07308343052864075, 0.011458301916718483, 0.047157153487205505, 0.03085879608988762, 0.06223834306001663, -0.08392485976219177, 0.03339599445462227, 0.026769161224365234, 0.009197819046676159, 0.0019427307415753603, -0.021411295980215073, 0.08016318082809448, 0.025188634172081947, -0.005784925539046526, -0.06488045305013657, -0.0478365384042263, -0.028712572529911995, -0.011934838257730007, -0.04280427098274231, 0.017061159014701843, -0.006001007277518511, -0.03445037454366684, -0.04060341790318489, -0.0008155426476150751, 0.0445522777736187, -0.02339254505932331, 0.03748377040028572, -0.08764347434043884, -0.003316344227641821, -0.023202380165457726, -0.1518423855304718, -0.008754642680287361, 0.025439990684390068, -0.03403225913643837, 0.03487836942076683, -0.04571956768631935, -0.02934127487242222, 0.010181323625147343, 0.08012451976537704, -0.03767404705286026, 0.0033927871845662594, -0.05390756577253342, 0.08012962341308594, 0.09168147295713425, 0.004274303559213877, -0.012289249338209629, 0.015937279909849167, 0.019352968782186508, -0.01616745814681053, 0.02016472816467285, 0.08315066248178482, -0.010362490080296993, -6.231443959870737e-33, -0.041074834764003754, 0.010829217731952667, 0.012152312323451042, 0.02284575067460537, 0.04837685823440552, 0.0033285373356193304, -0.030636295676231384, -0.05418366938829422, 0.028514044359326363, 0.11213745921850204, 0.045408573001623154, -0.02197323366999626, -0.04701809585094452, -0.04720081016421318, 0.004932498559355736, 0.009652979671955109, -0.06711636483669281, -0.015120945870876312, -0.0051192594692111015, -0.024698155000805855, 0.030830690637230873, -0.022182783111929893, -0.008444997482001781, -0.02598780393600464, -0.008434240706264973, -0.042147405445575714, 0.04841531813144684, 0.09285693615674973, -0.04693488031625748, 0.03438591957092285, 0.008052822202444077, 0.0642179399728775, -0.07479476183652878, -0.10267101973295212, -0.06788840144872665, -0.037379611283540726, -0.07266601175069809, -0.02853698655962944, 0.05121321976184845, 0.10214878618717194, -0.01319078728556633, -0.029238423332571983, 0.038279250264167786, 0.026655299589037895, 0.027515174821019173, 0.028917450457811356, -0.04504794999957085, 0.013933639042079449, 0.02661120891571045, -0.038610368967056274, -0.015409243293106556, 0.012036583386361599, -0.03593146800994873, -0.10133102536201477, 0.08787242323160172, 0.1179066151380539, 0.06359058618545532, -0.06321435421705246, -0.060546498745679855, -0.04060811176896095, -0.08401434123516083, -0.026149626821279526, -0.031736742705106735, -0.05508643388748169], 'question_vector': [0.02167384885251522, -0.03277144953608513, 0.008715257979929447, 0.014801074750721455, -0.037810053676366806, 0.04800639674067497, -0.13883855938911438, -0.0624319352209568, -0.07272450625896454, 0.0355244055390358, -0.01355147734284401, 0.03751121833920479, -0.013055918738245964, 0.0789821520447731, -0.031433992087841034, -0.019571352750062943, 9.119526657741517e-05, -0.11524493247270584, 0.08325013518333435, 0.010166754014790058, 0.0030288617126643658, 0.021662423387169838, -0.006400355603545904, 0.01956232264637947, -0.006027230527251959, -0.006442835088819265, 0.010842419229447842, -0.03511597216129303, 0.026352446526288986, 0.005196135025471449, -0.04613179340958595, -0.02148897759616375, 0.032979242503643036, 0.05624593421816826, -0.0011973072541877627, 0.058131396770477295, 0.031085392460227013, -0.02471970021724701, -0.02170383743941784, 0.09068099409341812, -0.04238354042172432, -0.031173627823591232, -0.021251507103443146, 0.0501881018280983, 0.13087080419063568, 0.05083880573511124, 0.011394410394132137, -0.042756401002407074, 0.028955549001693726, 0.00187592557631433, -0.026684312149882317, -0.059013351798057556, 0.0015361118130385876, -0.06255445629358292, -0.027808191254734993, 0.09807536005973816, -0.015819234773516655, 0.031979750841856, -0.034207534044981, 0.07183625549077988, -0.09220316261053085, -0.05469346418976784, -0.10821288824081421, 0.012522470206022263, -0.014943864196538925, 0.008367976173758507, -0.0009935039561241865, 0.09381865710020065, 0.06443728506565094, -0.03172031417489052, -0.015602301806211472, 0.01475869957357645, 0.08479377627372742, -0.011857694946229458, 0.05951128154993057, 0.020003480836749077, -0.0013537938939407468, 0.06629996746778488, 0.05618495121598244, -0.09947704523801804, -0.012082323431968689, 0.01882447488605976, 0.020879780873656273, 0.028794974088668823, -0.03468623757362366, 0.0030738457571715117, 0.006299726665019989, 0.006565881427377462, -0.024032507091760635, -0.019496774300932884, 0.06536947935819626, -0.08827866613864899, -0.07399002462625504, 0.0832417830824852, -0.044122058898210526, 0.11488033831119537, -0.006352709140628576, -0.0500124916434288, 0.05345107987523079, -0.01396543625742197, -0.024905208498239517, 0.048448484390974045, 0.004990321584045887, -0.015442361123859882, -0.008416922762989998, -0.03799843043088913, 0.04372943192720413, 0.0043504382483661175, 0.009200419299304485, -0.024048836901783943, 0.06302355974912643, -0.0002484571887180209, 0.058223746716976166, -0.019082315266132355, -0.029437124729156494, 0.0967182070016861, 0.013588080182671547, 0.04523880407214165, 0.0030497321859002113, 0.03833400830626488, -0.01762169413268566, 0.03539413958787918, 0.04037684202194214, -0.030724016949534416, -0.06930992752313614, -0.045652370899915695, -0.0384543240070343, 1.2908473041803438e-30, -0.04142650589346886, -0.09394199401140213, 0.009455361403524876, -0.018287260085344315, -0.01946881227195263, -0.08361420035362244, 0.03897051140666008, 0.03662686422467232, -0.0663580596446991, 0.05646008625626564, 0.013451791368424892, -0.043527644127607346, -0.004696645308285952, -0.01998341828584671, 0.060490865260362625, -0.12543286383152008, -0.027097187936306, -0.06768611818552017, -0.043939899653196335, -0.009914150461554527, -0.018334606662392616, 0.013372392393648624, -0.01687328703701496, -0.07577438652515411, -0.004239402711391449, 0.049906905740499496, 0.030453931540250778, 0.04297639802098274, -0.011434048414230347, 0.006599470041692257, 0.04579900950193405, 0.01019793376326561, -0.1702549159526825, 0.023856448009610176, -0.007324397563934326, 0.07461721450090408, 0.012199541553854942, 0.02624136582016945, 0.13034610450267792, -0.11772558838129044, -0.01830325648188591, -0.0021754740737378597, 0.024356843903660774, -0.026911383494734764, 0.02172628417611122, -0.008037211373448372, 0.05060706287622452, -0.01970982924103737, 0.1176016628742218, -0.006872094236314297, -0.04858040437102318, -0.03633676841855049, -0.0044761230237782, -0.06491167098283768, 0.014882952906191349, 0.012623975053429604, 0.034857574850320816, 0.01974843628704548, -0.07578248530626297, -0.03868556395173073, 0.07009764760732651, -0.0038434418383985758, -0.028847364708781242, 0.039876073598861694, -0.12415413558483124, -0.01410599797964096, -0.04146445542573929, -0.04982554167509079, 0.04469909146428108, -0.03022448718547821, -0.030261699110269547, 0.013678285293281078, -0.06165967509150505, -0.058120209723711014, 0.05949348211288452, 0.0666516125202179, 0.0012523224577307701, -0.022107455879449844, 0.07104627788066864, 0.011119146831333637, -0.04408571124076843, -0.011530006304383278, -0.006345305126160383, 0.039650119841098785, -0.02501348964869976, 0.03799406439065933, 0.046200476586818695, 0.016664911061525345, 0.010631137527525425, -0.03859920799732208, -0.06711923331022263, -0.005667094606906176, 0.021438568830490112, 0.11262022703886032, 0.12841422855854034, -1.954830207686171e-33, 0.10860247164964676, 0.08620869368314743, -0.032883573323488235, -0.0014029174344614148, 0.06957711279392242, -0.04935290291905403, -0.00835071038454771, 0.08846744149923325, 0.027311226353049278, 0.0639813095331192, -0.013082689605653286, -0.011338791809976101, 0.013657805509865284, 0.009315554052591324, 0.021521730348467827, -0.04787766560912132, 0.0336652435362339, -0.01508948765695095, -0.0025435006245970726, 0.0075634196400642395, -0.043457843363285065, 0.05380820482969284, -0.07804201543331146, -0.102485790848732, 0.02402724325656891, -0.027532432228326797, 0.13189160823822021, -0.019578002393245697, -0.00957380048930645, 0.030354544520378113, 0.05646928772330284, -0.05356061831116676, 0.015405259095132351, 0.0036529279313981533, -0.033894799649715424, 0.033488620072603226, -0.014751414768397808, -0.025679603219032288, -0.052867040038108826, 0.05505480244755745, 0.07145975530147552, -0.01331998873502016, -0.005924841854721308, -0.01612786389887333, -0.015229355543851852, 0.007168448995798826, 0.10705335438251495, 0.0450693741440773, 0.016019655391573906, 0.05363250523805618, -0.048546724021434784, 0.002595091937109828, -0.021679172292351723, -0.07236180454492569, 0.07027175277471542, 0.03746499493718147, -0.030871527269482613, -0.0062712994404137135, -0.05472106859087944, -0.0023767142556607723, 0.017042962834239006, 0.027064498513936996, -0.017644107341766357, -0.02317803166806698, -0.026697661727666855, 0.01879975199699402, -0.059376638382673264, 0.09883801639080048, 0.010606273077428341, 0.030879653990268707, -0.03889589384198189, 0.007986693643033504, -0.014445866458117962, -0.11677379161119461, -0.03980474919080734, -0.025576021522283554, 0.028563518077135086, 0.025798548012971878, -0.018545720726251602, -0.0018253722228109837, -0.0113148745149374, 0.04444986209273338, -0.12611381709575653, 0.08070721477270126, 0.009220830164849758, 0.09091847389936447, 0.08089014142751694, -0.04043056443333626, 0.016567913815379143, 0.014866429381072521, 0.05576689541339874, -0.02902405522763729, 0.049930982291698456, 0.026387935504317284, -0.07315311580896378, -6.146926650730584e-33, -0.044602859765291214, -0.003205155488103628, 0.004337534308433533, 0.06423497945070267, 0.04637572169303894, 0.03303380310535431, 0.01867109350860119, 0.023170797154307365, 0.010309027507901192, 0.13827058672904968, -0.016988804563879967, 0.08452309668064117, -0.02186746895313263, -0.01891198381781578, 0.0009665226098150015, 0.059163570404052734, -0.016553539782762527, 0.07368988543748856, -0.0176677443087101, -0.01145369466394186, -0.007754635065793991, -0.00243560248054564, 0.0600648857653141, 0.004942373372614384, -0.06055649742484093, -0.0502830445766449, -0.00750042824074626, -0.00875891838222742, -0.044338420033454895, 0.03986969217658043, 0.029796628281474113, 0.06149022653698921, -0.002000895794481039, -0.05167211592197418, -0.06334644556045532, -0.030926579609513283, -0.08224637806415558, 0.0012121209874749184, 0.06750000268220901, 0.03160463273525238, -0.05761495605111122, 0.021342473104596138, 0.06464406847953796, 0.06390296667814255, 0.04885292798280716, 0.021617142483592033, -0.12068770825862885, -0.01871061697602272, 0.028378786519169807, -0.06643146276473999, -0.052389323711395264, 0.04316099360585213, -0.08853153139352798, -0.05743768438696861, 0.11887068301439285, 0.11082417517900467, 0.017748698592185974, -0.07254533469676971, -0.07551700621843338, -0.016345247626304626, -0.0750909075140953, -0.11991347372531891, -0.019017895683646202, 0.008823351934552193], 'question_text_vector': [-0.024741485714912415, 0.012525072321295738, 0.018679006025195122, -0.00244599930010736, -0.0629660040140152, -0.0014720999170094728, -0.09398811310529709, -0.07706896215677261, -0.024258939549326897, -0.002658956917002797, -0.03137565404176712, 0.025898585096001625, 0.00012767394946422428, 0.0011656727874651551, 0.005246581044048071, -0.027548285201191902, 0.012511109933257103, -0.14804230630397797, 0.03980831056833267, -0.007598444819450378, 0.008631053380668163, -0.011888537555932999, -0.025514384731650352, 0.032488156110048294, 0.02938574180006981, 0.015854042023420334, 0.020690731704235077, -0.02255440503358841, 0.05481421574950218, 0.009730030782520771, 0.02404075674712658, -0.07032454013824463, 0.08463677018880844, 0.05136994272470474, -0.008639911189675331, 0.0517791211605072, 0.04369189217686653, -0.04955637827515602, 0.04172463342547417, 0.08606511354446411, -0.020145805552601814, -0.09766698628664017, -0.044423360377550125, 0.04236694797873497, 0.14045971632003784, -0.0045498572289943695, -0.009790928103029728, -0.05906064435839653, 0.012840515933930874, 0.022049400955438614, -0.016967806965112686, -0.0727972760796547, -0.03530733287334442, 0.018329499289393425, -0.06357397884130478, 0.11877939105033875, -0.03109569661319256, 0.09821061044931412, 0.01446444634348154, 0.023008137941360474, -0.11432456970214844, -0.054885610938072205, -0.0979958325624466, 0.03053613193333149, -0.06786391139030457, 0.06985366344451904, -0.005836952943354845, 0.13005203008651733, 0.07017137855291367, -0.03549367934465408, -0.043307118117809296, 0.017247777432203293, 0.029415268450975418, 0.05792456492781639, 0.04226088896393776, -0.04194676876068115, 0.018435703590512276, 0.017571475356817245, 0.027018673717975616, -0.021521618589758873, -0.011189582757651806, 0.019889352843165398, 0.01429608091711998, 0.05939934402704239, -0.0018090297235175967, -0.008607245050370693, 0.07635917514562607, 0.06035977974534035, -0.028079761192202568, 0.029999075457453728, 0.04430605471134186, -0.011582743376493454, -0.08076072484254837, 0.0766543373465538, -0.0012202842626720667, 0.06184756010770798, 0.005533070303499699, -0.015430375002324581, 0.05348072201013565, -0.002034981269389391, -0.059395499527454376, 0.08744334429502487, -0.023734457790851593, 0.011955284513533115, -0.013106180354952812, -0.022986428812146187, -0.055273521691560745, 0.0212443545460701, 0.041877493262290955, -0.005870862863957882, -0.0027510833460837603, 0.05729370936751366, 0.038072746247053146, -0.06085900217294693, 0.021112116053700447, 0.061444804072380066, -0.039277493953704834, 0.026696542277932167, 0.04616482928395271, 0.03376605734229088, 0.02282012440264225, 0.07696288824081421, 0.018306823447346687, -0.05171852558851242, -0.04043705016374588, -0.029319122433662415, 0.04872908815741539, -7.127413100907178e-32, 0.0010534542379900813, -0.04723880812525749, -0.04945705458521843, -0.013558981008827686, -0.013132615014910698, -0.02280965819954872, -0.05328438803553581, 0.043521005660295486, -0.06302525103092194, 0.03344360366463661, -0.0022200022358447313, 0.005010131746530533, 0.00984700582921505, 0.006438600830733776, 0.013405419886112213, -0.03334396705031395, 0.013249575160443783, -0.0031729775946587324, 0.002079348312690854, 0.015927515923976898, -0.008983209729194641, -0.05164288356900215, 0.008944081142544746, -0.05778391659259796, 0.037815939635038376, 0.05228189378976822, 0.01985463872551918, 0.005736867431551218, 0.019791968166828156, 0.013128644786775112, 0.04087516665458679, -0.08151423931121826, -0.07802218198776245, 0.014507744461297989, 0.01997590810060501, 0.010950802825391293, -0.033521637320518494, -0.007923089899122715, 0.12858332693576813, -0.10382043570280075, 0.015627289190888405, -0.020787673071026802, 0.0356338806450367, -0.02898607961833477, 0.030158070847392082, 0.015638258308172226, 0.04509466513991356, -0.053808946162462234, 0.14500686526298523, 0.03683899715542793, -0.038605768233537674, -0.02775879018008709, -0.022313496097922325, -0.04718140512704849, 0.010054068639874458, -0.046296875923871994, 0.008700945414602757, -0.048111721873283386, -0.03275594487786293, -0.0650152638554573, 0.061543770134449005, 0.014225538820028305, 0.03657978028059006, 0.02751901187002659, -0.07056494057178497, -0.07526202499866486, -0.096409372985363, -0.017651386559009552, 0.1048826053738594, -0.08059956878423691, -0.029756175354123116, -0.040773674845695496, -0.06631758064031601, -0.07326027005910873, 0.00585141172632575, 0.05559757351875305, 0.015271780081093311, -0.03272311016917229, 0.06349111348390579, 0.052824970334768295, 0.018735792487859726, -0.05473237484693527, 0.034602951258420944, -0.005358009599149227, -0.007553229574114084, 0.06863155961036682, 0.09452822059392929, -0.04853053763508797, 0.01913418434560299, 0.04765976592898369, -0.14504075050354004, 0.01818431168794632, -0.02650991454720497, 0.12277690321207047, 0.11448584496974945, -4.787551187977105e-33, 0.10834366083145142, 0.023569853976368904, -0.06056937947869301, -0.017420191317796707, 0.05159815400838852, -0.05559571459889412, -0.03455878049135208, 0.11171669512987137, 0.030833039432764053, 0.13032299280166626, 0.03345641493797302, 0.005852078553289175, -0.027800962328910828, -0.0025773923844099045, 0.03376496210694313, -0.05391461029648781, 0.005512659903615713, 0.0026398920454084873, -0.01923316717147827, 0.023623935878276825, -0.09091072529554367, -0.0010137426434084773, -0.10828577727079391, -0.07583735138177872, 0.0540994293987751, -0.052404385060071945, 0.08861251175403595, -0.006891028955578804, 0.05987023934721947, 0.015930980443954468, 0.00351938558742404, -0.07187609374523163, -0.002005216432735324, 0.028199341148138046, 0.03653058409690857, 0.10551287233829498, 0.03508288785815239, -0.0028884157072752714, 0.009322511032223701, 0.004363680258393288, 0.09338632971048355, 0.023524755612015724, -0.08108911663293839, -0.07308343052864075, 0.011458301916718483, 0.047157153487205505, 0.03085879608988762, 0.06223834306001663, -0.08392485976219177, 0.03339599445462227, 0.026769161224365234, 0.009197819046676159, 0.0019427307415753603, -0.021411295980215073, 0.08016318082809448, 0.025188634172081947, -0.005784925539046526, -0.06488045305013657, -0.0478365384042263, -0.028712572529911995, -0.011934838257730007, -0.04280427098274231, 0.017061159014701843, -0.006001007277518511, -0.03445037454366684, -0.04060341790318489, -0.0008155426476150751, 0.0445522777736187, -0.02339254505932331, 0.03748377040028572, -0.08764347434043884, -0.003316344227641821, -0.023202380165457726, -0.1518423855304718, -0.008754642680287361, 0.025439990684390068, -0.03403225913643837, 0.03487836942076683, -0.04571956768631935, -0.02934127487242222, 0.010181323625147343, 0.08012451976537704, -0.03767404705286026, 0.0033927871845662594, -0.05390756577253342, 0.08012962341308594, 0.09168147295713425, 0.004274303559213877, -0.012289249338209629, 0.015937279909849167, 0.019352968782186508, -0.01616745814681053, 0.02016472816467285, 0.08315066248178482, -0.010362490080296993, -6.231443959870737e-33, -0.041074834764003754, 0.010829217731952667, 0.012152312323451042, 0.02284575067460537, 0.04837685823440552, 0.0033285373356193304, -0.030636295676231384, -0.05418366938829422, 0.028514044359326363, 0.11213745921850204, 0.045408573001623154, -0.02197323366999626, -0.04701809585094452, -0.04720081016421318, 0.004932498559355736, 0.009652979671955109, -0.06711636483669281, -0.015120945870876312, -0.0051192594692111015, -0.024698155000805855, 0.030830690637230873, -0.022182783111929893, -0.008444997482001781, -0.02598780393600464, -0.008434240706264973, -0.042147405445575714, 0.04841531813144684, 0.09285693615674973, -0.04693488031625748, 0.03438591957092285, 0.008052822202444077, 0.0642179399728775, -0.07479476183652878, -0.10267101973295212, -0.06788840144872665, -0.037379611283540726, -0.07266601175069809, -0.02853698655962944, 0.05121321976184845, 0.10214878618717194, -0.01319078728556633, -0.029238423332571983, 0.038279250264167786, 0.026655299589037895, 0.027515174821019173, 0.028917450457811356, -0.04504794999957085, 0.013933639042079449, 0.02661120891571045, -0.038610368967056274, -0.015409243293106556, 0.012036583386361599, -0.03593146800994873, -0.10133102536201477, 0.08787242323160172, 0.1179066151380539, 0.06359058618545532, -0.06321435421705246, -0.060546498745679855, -0.04060811176896095, -0.08401434123516083, -0.026149626821279526, -0.031736742705106735, -0.05508643388748169]}\n"
     ]
    }
   ],
   "source": [
    "# Query to get the first document\n",
    "response = es_client.search(\n",
    "    index=index_name,\n",
    "    body={\n",
    "        \"size\": 2,  # Limit to one document\n",
    "    }\n",
    ")\n",
    "\n",
    "# Extract the first document\n",
    "if response['hits']['hits']:\n",
    "    first_doc = response['hits']['hits'][0]['_source']\n",
    "    print(\"First document:\", first_doc)\n",
    "else:\n",
    "    print(\"No documents found in the index.\")"
   ]
  },
  {
   "cell_type": "markdown",
   "id": "4f070469-aa1f-4ddd-96da-2017babbd28b",
   "metadata": {},
   "source": [
    "### Create the embedding of the user query and query the data"
   ]
  },
  {
   "cell_type": "code",
   "execution_count": 50,
   "id": "b15f9863-b526-41be-8932-baef6949c45e",
   "metadata": {},
   "outputs": [],
   "source": [
    "# Creating the search function to use for evaluation\n",
    "def question_vector_knn(user_query):\n",
    "    # Extract the text field\n",
    "    question = user_query['question']\n",
    "    # Extract keyword for filtering the results\n",
    "    course = user_query['course']\n",
    "    # Create the embedding of the user query\n",
    "    v_q = model.encode(question)\n",
    "    return elastic_search_knn('question_vector', v_q, course)"
   ]
  },
  {
   "cell_type": "code",
   "execution_count": 52,
   "id": "45ebbfa4-20a8-4218-b8ea-68e545b04698",
   "metadata": {},
   "outputs": [],
   "source": [
    "# Creating the search function to use for evaluation\n",
    "def text_vector_knn(user_query):\n",
    "    # Extract the text field\n",
    "    question = user_query['question']\n",
    "    # Extract keyword for filtering the results\n",
    "    course = user_query['course']\n",
    "    # Create the embedding of the user query\n",
    "    v_q = model.encode(question)\n",
    "    return elastic_search_knn('text_vector', v_q, course)"
   ]
  },
  {
   "cell_type": "code",
   "execution_count": 53,
   "id": "bd4d2960-d233-47e8-96ee-2180ae9715a0",
   "metadata": {},
   "outputs": [],
   "source": [
    "# Creating the search function to use for evaluation\n",
    "def question_text_vector_knn(user_query):\n",
    "    # Extract the text field\n",
    "    question = user_query['question']\n",
    "    # Extract keyword for filtering the results\n",
    "    course = user_query['course']\n",
    "    # Create the embedding of the user query\n",
    "    v_q = model.encode(question)\n",
    "    return elastic_search_knn('question_text_vector', v_q, course)"
   ]
  },
  {
   "cell_type": "markdown",
   "id": "f4dee099-e541-4405-b3a2-5ca3a59d324c",
   "metadata": {},
   "source": [
    "### Calculate the HR and MRR metrics comparing the retrieved data with the ground truth dataset"
   ]
  },
  {
   "cell_type": "code",
   "execution_count": 54,
   "id": "b921643c-48f7-4973-9c8b-c585bba3e816",
   "metadata": {},
   "outputs": [
    {
     "data": {
      "application/vnd.jupyter.widget-view+json": {
       "model_id": "8e11ad96dad54fdfb1a62e5b115a8519",
       "version_major": 2,
       "version_minor": 0
      },
      "text/plain": [
       "  0%|          | 0/4627 [00:00<?, ?it/s]"
      ]
     },
     "metadata": {},
     "output_type": "display_data"
    },
    {
     "data": {
      "text/plain": [
       "{'hit_rate': 0.773071104387292, 'mrr': 0.6666810748505158}"
      ]
     },
     "execution_count": 54,
     "metadata": {},
     "output_type": "execute_result"
    }
   ],
   "source": [
    "# Evaluate the vector search only in questions of the FAQ\n",
    "evaluate(ground_truth, question_vector_knn)"
   ]
  },
  {
   "cell_type": "code",
   "execution_count": 55,
   "id": "e5cd409c-7fbb-4505-86a9-d539f8d93204",
   "metadata": {},
   "outputs": [
    {
     "data": {
      "application/vnd.jupyter.widget-view+json": {
       "model_id": "52fd58c859ac4fe9ae4c6174c050841a",
       "version_major": 2,
       "version_minor": 0
      },
      "text/plain": [
       "  0%|          | 0/4627 [00:00<?, ?it/s]"
      ]
     },
     "metadata": {},
     "output_type": "display_data"
    },
    {
     "data": {
      "text/plain": [
       "{'hit_rate': 0.8286146531229739, 'mrr': 0.7062315395144454}"
      ]
     },
     "execution_count": 55,
     "metadata": {},
     "output_type": "execute_result"
    }
   ],
   "source": [
    "# Evaluate the vector search only in text answer of the FAQ\n",
    "evaluate(ground_truth, text_vector_knn)"
   ]
  },
  {
   "cell_type": "code",
   "execution_count": 56,
   "id": "bbe1315c-7bca-42ec-9cf9-d9e7eef384fc",
   "metadata": {},
   "outputs": [
    {
     "data": {
      "application/vnd.jupyter.widget-view+json": {
       "model_id": "99ef24cec22341d58303551008dc0b17",
       "version_major": 2,
       "version_minor": 0
      },
      "text/plain": [
       "  0%|          | 0/4627 [00:00<?, ?it/s]"
      ]
     },
     "metadata": {},
     "output_type": "display_data"
    },
    {
     "data": {
      "text/plain": [
       "{'hit_rate': 0.9172249837907932, 'mrr': 0.824306606152295}"
      ]
     },
     "execution_count": 56,
     "metadata": {},
     "output_type": "execute_result"
    }
   ],
   "source": [
    "# Evaluate the vector search in questions and answer of the FAQ\n",
    "evaluate(ground_truth, question_text_vector_knn)"
   ]
  }
 ],
 "metadata": {
  "kernelspec": {
   "display_name": "Python 3 (ipykernel)",
   "language": "python",
   "name": "python3"
  },
  "language_info": {
   "codemirror_mode": {
    "name": "ipython",
    "version": 3
   },
   "file_extension": ".py",
   "mimetype": "text/x-python",
   "name": "python",
   "nbconvert_exporter": "python",
   "pygments_lexer": "ipython3",
   "version": "3.10.14"
  }
 },
 "nbformat": 4,
 "nbformat_minor": 5
}
