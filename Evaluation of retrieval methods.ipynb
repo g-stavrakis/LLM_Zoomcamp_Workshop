{
 "cells": [
  {
   "cell_type": "markdown",
   "id": "3d599c7c-f3de-4d32-a7ac-030a06b77deb",
   "metadata": {},
   "source": [
    "# Evaluation of retrieval methods"
   ]
  },
  {
   "cell_type": "markdown",
   "id": "3d893f69-b4b4-4933-9484-bb933f2ad0b9",
   "metadata": {},
   "source": [
    "## Create the Ground truth dataset for retrieval evaluation\n",
    "\n",
    "Ground truth is the dataset that contains all the relevant documents that should be retrieved from each query. Consider this as a label dataset that we know in advance the correct documents we need to retrieve for each query.\n",
    "\n",
    "You can create a ground truth in various ways:\n",
    "- Human annotators: That will find and label manually all the relevant documents for each query\n",
    "- User interaction annotators: In production system people or LLMs can examine user queries and system results and label the most relevant docs\n",
    "- LLM synthetic data: Use an LLM to generate a number of synthetic user questions for each record/document that we want to retrieve\n",
    "\n",
    "In this exercise, the last option will be used."
   ]
  },
  {
   "cell_type": "code",
   "execution_count": 41,
   "id": "3b154058-9e64-4751-8333-aa7abc329554",
   "metadata": {},
   "outputs": [],
   "source": [
    "import pandas as pd"
   ]
  },
  {
   "cell_type": "code",
   "execution_count": 1,
   "id": "d43512c9-18ae-48c1-a8f2-a5008a5896bc",
   "metadata": {},
   "outputs": [
    {
     "data": {
      "text/plain": [
       "{'text': \"The purpose of this document is to capture frequently asked technical questions\\nThe exact day and hour of the course will be 15th Jan 2024 at 17h00. The course will start with the first  “Office Hours'' live.1\\nSubscribe to course public Google Calendar (it works from Desktop only).\\nRegister before the course starts using this link.\\nJoin the course Telegram channel with announcements.\\nDon’t forget to register in DataTalks.Club's Slack and join the channel.\",\n",
       " 'section': 'General course-related questions',\n",
       " 'question': 'Course - When will the course start?',\n",
       " 'course': 'data-engineering-zoomcamp'}"
      ]
     },
     "execution_count": 1,
     "metadata": {},
     "output_type": "execute_result"
    }
   ],
   "source": [
    "# Fetch the documents that we want to fetch\n",
    "import requests\n",
    "# To get the documents I will download them for the GitHub repo\n",
    "url_path = 'https://raw.githubusercontent.com/DataTalksClub/llm-zoomcamp/main/01-intro/documents.json'\n",
    "response = requests.get(url_path)\n",
    "# Read the Json file \n",
    "docs_raw = response.json()\n",
    "# Flatten the json (add the course in each question)\n",
    "documents = []\n",
    "# For each course in the Json\n",
    "for courses in docs_raw:\n",
    "    # Add the course name to the document\n",
    "    for doc in courses['documents']:\n",
    "        doc['course'] = courses['course']\n",
    "        documents.append(doc)\n",
    "# See the first question of the document\n",
    "documents[0]"
   ]
  },
  {
   "cell_type": "markdown",
   "id": "aacdf13f-591c-406e-93b2-0027d4f3904b",
   "metadata": {},
   "source": [
    "### Create an unique identifier for each document"
   ]
  },
  {
   "cell_type": "code",
   "execution_count": 2,
   "id": "ca5ea92f-9d8d-498b-8f7b-73214063f537",
   "metadata": {},
   "outputs": [],
   "source": [
    "# Use the library to create a hash key\n",
    "import hashlib\n",
    "\n",
    "# Create the function to generate the unique doc id\n",
    "def generate_document_id(doc):\n",
    "    # To create a unique string to hash we take the text from different elements of the document\n",
    "    combined = f\"{doc['course']}-{doc['question']}-{doc['text'][:10]}\"\n",
    "    # Create the hash object from the string\n",
    "    hash_object = hashlib.md5(combined.encode())\n",
    "    # Create a string from the hashed object\n",
    "    hash_hex = hash_object.hexdigest()\n",
    "    # Takne the first 8 digits of the string\n",
    "    document_id = hash_hex[:8]\n",
    "    return document_id"
   ]
  },
  {
   "cell_type": "code",
   "execution_count": 3,
   "id": "5d4e6993-6f1f-4a36-8dc1-6cb442515428",
   "metadata": {},
   "outputs": [
    {
     "data": {
      "text/plain": [
       "{'text': \"The purpose of this document is to capture frequently asked technical questions\\nThe exact day and hour of the course will be 15th Jan 2024 at 17h00. The course will start with the first  “Office Hours'' live.1\\nSubscribe to course public Google Calendar (it works from Desktop only).\\nRegister before the course starts using this link.\\nJoin the course Telegram channel with announcements.\\nDon’t forget to register in DataTalks.Club's Slack and join the channel.\",\n",
       " 'section': 'General course-related questions',\n",
       " 'question': 'Course - When will the course start?',\n",
       " 'course': 'data-engineering-zoomcamp',\n",
       " 'id': 'c02e79ef'}"
      ]
     },
     "execution_count": 3,
     "metadata": {},
     "output_type": "execute_result"
    }
   ],
   "source": [
    "# Generate a unique id for each document\n",
    "for doc in documents:\n",
    "    doc['id'] = generate_document_id(doc)\n",
    "# Examine the first record\n",
    "documents[0]"
   ]
  },
  {
   "cell_type": "code",
   "execution_count": 4,
   "id": "719b590a-d428-4f0a-8e7f-d7c319bc4c5e",
   "metadata": {},
   "outputs": [
    {
     "name": "stdout",
     "output_type": "stream",
     "text": [
      "947 948\n",
      "593f7569 2\n"
     ]
    }
   ],
   "source": [
    "# Check for duplicates\n",
    "from collections import defaultdict\n",
    "hashes = defaultdict(list)\n",
    "for doc in documents:\n",
    "    doc_id = doc['id']\n",
    "    hashes[doc_id].append(doc)\n",
    "# See the length\n",
    "print(len(hashes), len(documents))\n",
    "# Find the duplicate entries\n",
    "for k, values in hashes.items():\n",
    "    if len(values) > 1:\n",
    "        print(k, len(values))"
   ]
  },
  {
   "cell_type": "markdown",
   "id": "bcb8d485-fa7b-4dc7-9db1-055c8e5301f7",
   "metadata": {},
   "source": [
    "### Generate user questions for each record using LLM"
   ]
  },
  {
   "cell_type": "code",
   "execution_count": 5,
   "id": "32077155-0745-401a-a4b9-688cae3db2a0",
   "metadata": {},
   "outputs": [],
   "source": [
    "# Create the prompt template for the LLM\n",
    "prompt_template = \"\"\"\n",
    "You emulate a student who's taking our course.\n",
    "Formulate 5 questions this student might ask based on a FAQ record. The record\n",
    "should contain the answer to the questions, and the questions should be complete and not too short.\n",
    "If possible, use as fewer words as possible from the record. \n",
    "\n",
    "The record:\n",
    "\n",
    "section: {section}\n",
    "question: {question}\n",
    "answer: {text}\n",
    "\n",
    "Provide the output in parsable JSON without using code blocks:\n",
    "\n",
    "[\"question1\", \"question2\", ..., \"question5\"]\n",
    "\"\"\".strip()"
   ]
  },
  {
   "cell_type": "code",
   "execution_count": 9,
   "id": "974a58a3-0dfa-4dde-b02d-b6a0c188ae67",
   "metadata": {},
   "outputs": [],
   "source": [
    "# Initialize the OpenAI instance\n",
    "from openai import OpenAI\n",
    "# Initialzite the client\n",
    "client = OpenAI()"
   ]
  },
  {
   "cell_type": "code",
   "execution_count": 19,
   "id": "7307991e-868f-4ce7-82d6-947d54bf905e",
   "metadata": {},
   "outputs": [
    {
     "name": "stdout",
     "output_type": "stream",
     "text": [
      "[\n",
      "    \"When is the exact start date and time of the course?\",\n",
      "    \"How can I subscribe to the course's public Google Calendar?\",\n",
      "    \"Where can I register before the course begins?\",\n",
      "    \"How do I join the course's Telegram channel for announcements?\",\n",
      "    \"Which Slack channel should I join after registering in DataTalks.Club?\"\n",
      "]\n"
     ]
    }
   ],
   "source": [
    "# Generate questions from the first record\n",
    "sample = documents[0]\n",
    "# Create the prompt\n",
    "prompt = prompt_template.format(**sample)\n",
    "# Make the request\n",
    "full_response = client.chat.completions.create(\n",
    "    model = 'gpt-4o',\n",
    "    messages = [{\"role\": \"user\", \"content\": prompt}])\n",
    "# Parse the response\n",
    "response = full_response.choices[0].message.content\n",
    "# Print the response\n",
    "print(response)"
   ]
  },
  {
   "cell_type": "code",
   "execution_count": 13,
   "id": "ee963da0-6c9c-43ce-bda5-5f1bfb1cb5fd",
   "metadata": {},
   "outputs": [],
   "source": [
    "# Create the function to generate the questions\n",
    "def generate_questions(doc):\n",
    "    # Create the prompt from a template\n",
    "    prompt = prompt_template.format(**doc)\n",
    "    # Request from the model\n",
    "    full_response = client.chat.completions.create(\n",
    "        model = 'gpt-4o',\n",
    "        messages = [{\"role\": \"user\", \"content\": prompt}])\n",
    "    # Parse the response\n",
    "    response = full_response.choices[0].message.content\n",
    "    return response"
   ]
  },
  {
   "cell_type": "markdown",
   "id": "feff73be-b06f-4a4e-960e-a33a1fbaa609",
   "metadata": {},
   "source": [
    "### Create the ground truth dataset"
   ]
  },
  {
   "cell_type": "code",
   "execution_count": 28,
   "id": "07bce8dd-8cc3-4236-96c9-2e9488752b44",
   "metadata": {},
   "outputs": [],
   "source": [
    "# Create a subset of the dataset to generate the questions\n",
    "docs = documents[:5]\n",
    "\n",
    "# Initialize the results object\n",
    "results = {}\n",
    "# For each document generate the user questions\n",
    "for doc in docs:\n",
    "    doc_id = doc['id']\n",
    "    results[doc_id] = generate_questions(doc)"
   ]
  },
  {
   "cell_type": "code",
   "execution_count": 48,
   "id": "3fc24515-0522-4cb7-93be-a6b8a751c1d5",
   "metadata": {},
   "outputs": [
    {
     "data": {
      "text/html": [
       "<div>\n",
       "<style scoped>\n",
       "    .dataframe tbody tr th:only-of-type {\n",
       "        vertical-align: middle;\n",
       "    }\n",
       "\n",
       "    .dataframe tbody tr th {\n",
       "        vertical-align: top;\n",
       "    }\n",
       "\n",
       "    .dataframe thead th {\n",
       "        text-align: right;\n",
       "    }\n",
       "</style>\n",
       "<table border=\"1\" class=\"dataframe\">\n",
       "  <thead>\n",
       "    <tr style=\"text-align: right;\">\n",
       "      <th></th>\n",
       "      <th>document</th>\n",
       "      <th>question</th>\n",
       "      <th>course</th>\n",
       "    </tr>\n",
       "  </thead>\n",
       "  <tbody>\n",
       "    <tr>\n",
       "      <th>0</th>\n",
       "      <td>c02e79ef</td>\n",
       "      <td>When will the course begin?</td>\n",
       "      <td>data-engineering-zoomcamp</td>\n",
       "    </tr>\n",
       "    <tr>\n",
       "      <th>1</th>\n",
       "      <td>c02e79ef</td>\n",
       "      <td>How can I add the course schedule to my calendar?</td>\n",
       "      <td>data-engineering-zoomcamp</td>\n",
       "    </tr>\n",
       "    <tr>\n",
       "      <th>2</th>\n",
       "      <td>c02e79ef</td>\n",
       "      <td>Where should I register before the course starts?</td>\n",
       "      <td>data-engineering-zoomcamp</td>\n",
       "    </tr>\n",
       "    <tr>\n",
       "      <th>3</th>\n",
       "      <td>c02e79ef</td>\n",
       "      <td>Is there a Telegram channel for course announc...</td>\n",
       "      <td>data-engineering-zoomcamp</td>\n",
       "    </tr>\n",
       "    <tr>\n",
       "      <th>4</th>\n",
       "      <td>c02e79ef</td>\n",
       "      <td>Should I join any specific Slack channels for ...</td>\n",
       "      <td>data-engineering-zoomcamp</td>\n",
       "    </tr>\n",
       "    <tr>\n",
       "      <th>5</th>\n",
       "      <td>1f6520ca</td>\n",
       "      <td>What background knowledge do I need before enr...</td>\n",
       "      <td>data-engineering-zoomcamp</td>\n",
       "    </tr>\n",
       "    <tr>\n",
       "      <th>6</th>\n",
       "      <td>1f6520ca</td>\n",
       "      <td>Are there any specific skills required to star...</td>\n",
       "      <td>data-engineering-zoomcamp</td>\n",
       "    </tr>\n",
       "    <tr>\n",
       "      <th>7</th>\n",
       "      <td>1f6520ca</td>\n",
       "      <td>Where can I find the required prerequisites to...</td>\n",
       "      <td>data-engineering-zoomcamp</td>\n",
       "    </tr>\n",
       "    <tr>\n",
       "      <th>8</th>\n",
       "      <td>1f6520ca</td>\n",
       "      <td>Is there a list of prerequisites available for...</td>\n",
       "      <td>data-engineering-zoomcamp</td>\n",
       "    </tr>\n",
       "    <tr>\n",
       "      <th>9</th>\n",
       "      <td>1f6520ca</td>\n",
       "      <td>How can I check the prerequisites for this cou...</td>\n",
       "      <td>data-engineering-zoomcamp</td>\n",
       "    </tr>\n",
       "  </tbody>\n",
       "</table>\n",
       "</div>"
      ],
      "text/plain": [
       "   document                                           question  \\\n",
       "0  c02e79ef                        When will the course begin?   \n",
       "1  c02e79ef  How can I add the course schedule to my calendar?   \n",
       "2  c02e79ef  Where should I register before the course starts?   \n",
       "3  c02e79ef  Is there a Telegram channel for course announc...   \n",
       "4  c02e79ef  Should I join any specific Slack channels for ...   \n",
       "5  1f6520ca  What background knowledge do I need before enr...   \n",
       "6  1f6520ca  Are there any specific skills required to star...   \n",
       "7  1f6520ca  Where can I find the required prerequisites to...   \n",
       "8  1f6520ca  Is there a list of prerequisites available for...   \n",
       "9  1f6520ca  How can I check the prerequisites for this cou...   \n",
       "\n",
       "                      course  \n",
       "0  data-engineering-zoomcamp  \n",
       "1  data-engineering-zoomcamp  \n",
       "2  data-engineering-zoomcamp  \n",
       "3  data-engineering-zoomcamp  \n",
       "4  data-engineering-zoomcamp  \n",
       "5  data-engineering-zoomcamp  \n",
       "6  data-engineering-zoomcamp  \n",
       "7  data-engineering-zoomcamp  \n",
       "8  data-engineering-zoomcamp  \n",
       "9  data-engineering-zoomcamp  "
      ]
     },
     "execution_count": 48,
     "metadata": {},
     "output_type": "execute_result"
    }
   ],
   "source": [
    "ids = []\n",
    "user_query = []\n",
    "course = []\n",
    "i = 0 \n",
    "\n",
    "for id, questions_string in results.items():\n",
    "    # Convert the string of questions to a list\n",
    "    questions = json.loads(questions_string)\n",
    "    for query in questions:\n",
    "        ids.append(id)\n",
    "        user_query.append(query)\n",
    "        course.append(docs[i]['course'])\n",
    "    i+=1\n",
    "# Create the dictionary to save as a dataframe\n",
    "results_dic = {'document':ids,'question': user_query, 'course':course}\n",
    "# Create the dataframe with the ground truth dataset\n",
    "df = pd.DataFrame(results_dic)\n",
    "# View the dataset\n",
    "df.head(10)"
   ]
  },
  {
   "cell_type": "code",
   "execution_count": null,
   "id": "bc4b03ff-7163-445a-a2d2-076bc0a6d2a4",
   "metadata": {},
   "outputs": [],
   "source": []
  }
 ],
 "metadata": {
  "kernelspec": {
   "display_name": "Python 3 (ipykernel)",
   "language": "python",
   "name": "python3"
  },
  "language_info": {
   "codemirror_mode": {
    "name": "ipython",
    "version": 3
   },
   "file_extension": ".py",
   "mimetype": "text/x-python",
   "name": "python",
   "nbconvert_exporter": "python",
   "pygments_lexer": "ipython3",
   "version": "3.10.13"
  }
 },
 "nbformat": 4,
 "nbformat_minor": 5
}
